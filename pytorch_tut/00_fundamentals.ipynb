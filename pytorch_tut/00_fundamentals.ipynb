{
 "cells": [
  {
   "cell_type": "markdown",
   "id": "6c17f2ef-b575-4dd8-b9b8-8f0a86e901e0",
   "metadata": {},
   "source": [
    "# 00.PyTorch Fundamentals"
   ]
  },
  {
   "cell_type": "code",
   "execution_count": 1,
   "id": "d8562bfb-3abb-4aea-b8ad-c176320de1e4",
   "metadata": {},
   "outputs": [
    {
     "name": "stdout",
     "output_type": "stream",
     "text": [
      "2.4.1\n"
     ]
    }
   ],
   "source": [
    "import torch\n",
    "import matplotlib.pyplot as plt\n",
    "import pandas as pd\n",
    "import numpy as np\n",
    "print(torch.__version__)"
   ]
  },
  {
   "cell_type": "markdown",
   "id": "9ba43c98-dc9a-4ee0-b037-f1c596996e6b",
   "metadata": {},
   "source": [
    "## a. Introduction to tensors"
   ]
  },
  {
   "cell_type": "markdown",
   "id": "277d3345-1ad2-4b36-9cf6-fc7cd3b0204e",
   "metadata": {},
   "source": [
    "### i.creating tensors\n",
    "\n",
    "created using **torch.tensor** - https://pytorch.org/docs/stable/tensors.html"
   ]
  },
  {
   "cell_type": "markdown",
   "id": "57b9ab88-e43b-44d4-8ea3-b64b769983c3",
   "metadata": {},
   "source": [
    "#### + scalar"
   ]
  },
  {
   "cell_type": "code",
   "execution_count": 3,
   "id": "6af2a716-9766-4e91-a69e-fffd95d52c75",
   "metadata": {},
   "outputs": [
    {
     "data": {
      "text/plain": [
       "tensor(7)"
      ]
     },
     "execution_count": 3,
     "metadata": {},
     "output_type": "execute_result"
    }
   ],
   "source": [
    "scalar = torch.tensor(7)\n",
    "scalar"
   ]
  },
  {
   "cell_type": "code",
   "execution_count": 5,
   "id": "5adbaba9-2ab2-4a4f-bef4-c2cb215ade70",
   "metadata": {},
   "outputs": [
    {
     "data": {
      "text/plain": [
       "0"
      ]
     },
     "execution_count": 5,
     "metadata": {},
     "output_type": "execute_result"
    }
   ],
   "source": [
    "# dimension of tensor\n",
    "scalar.ndim"
   ]
  },
  {
   "cell_type": "code",
   "execution_count": 6,
   "id": "108ca685-cca3-435b-a848-99bc9d8ccc94",
   "metadata": {},
   "outputs": [
    {
     "data": {
      "text/plain": [
       "7"
      ]
     },
     "execution_count": 6,
     "metadata": {},
     "output_type": "execute_result"
    }
   ],
   "source": [
    "# to retrieve the scalar as an integer\n",
    "scalar.item()"
   ]
  },
  {
   "cell_type": "code",
   "execution_count": 35,
   "id": "178d0894-0d66-437d-bb6a-d7e797587c12",
   "metadata": {},
   "outputs": [
    {
     "data": {
      "text/plain": [
       "torch.int64"
      ]
     },
     "execution_count": 35,
     "metadata": {},
     "output_type": "execute_result"
    }
   ],
   "source": [
    "# check the datatype\n",
    "scalar.dtype"
   ]
  },
  {
   "cell_type": "markdown",
   "id": "d2b4f11a-fb44-440b-987d-7d1d4a25c506",
   "metadata": {},
   "source": [
    "#### + vector"
   ]
  },
  {
   "cell_type": "code",
   "execution_count": 7,
   "id": "015440e3-a686-4e02-bc5f-e07209c7036b",
   "metadata": {},
   "outputs": [
    {
     "data": {
      "text/plain": [
       "tensor([5, 2])"
      ]
     },
     "execution_count": 7,
     "metadata": {},
     "output_type": "execute_result"
    }
   ],
   "source": [
    "vec = torch.tensor([5,2])\n",
    "vec"
   ]
  },
  {
   "cell_type": "code",
   "execution_count": 8,
   "id": "c014d3e4-79a6-4b1d-b595-4154bc824aeb",
   "metadata": {},
   "outputs": [
    {
     "data": {
      "text/plain": [
       "1"
      ]
     },
     "execution_count": 8,
     "metadata": {},
     "output_type": "execute_result"
    }
   ],
   "source": [
    "vec.ndim"
   ]
  },
  {
   "cell_type": "code",
   "execution_count": 13,
   "id": "b703e426-6716-4891-a8d3-0f6367a54ea9",
   "metadata": {},
   "outputs": [
    {
     "data": {
      "text/plain": [
       "torch.Size([2])"
      ]
     },
     "execution_count": 13,
     "metadata": {},
     "output_type": "execute_result"
    }
   ],
   "source": [
    "vec.shape"
   ]
  },
  {
   "cell_type": "markdown",
   "id": "d7fe6af5-4d2a-4c75-8b57-5774f4a50de8",
   "metadata": {},
   "source": [
    "#### + matrix\n",
    "\n",
    "matrix and tensor is conventionally stored as uppercase variables"
   ]
  },
  {
   "cell_type": "code",
   "execution_count": 21,
   "id": "507461cb-9958-4733-8d2f-b8b2a139dd8e",
   "metadata": {},
   "outputs": [
    {
     "data": {
      "text/plain": [
       "tensor([[5, 2],\n",
       "        [1, 2]])"
      ]
     },
     "execution_count": 21,
     "metadata": {},
     "output_type": "execute_result"
    }
   ],
   "source": [
    "MAT = torch.tensor([[5,2],\n",
    "                    [1,2]])\n",
    "MAT"
   ]
  },
  {
   "cell_type": "markdown",
   "id": "de057cca-dd19-4391-9ea4-a89a20d3419f",
   "metadata": {},
   "source": [
    "#### + tensor\n",
    "It is a n-dimensional array of any shape starting from 0"
   ]
  },
  {
   "cell_type": "code",
   "execution_count": 23,
   "id": "b8519415-b05c-4d91-a2ed-df0882f8e51a",
   "metadata": {},
   "outputs": [
    {
     "data": {
      "text/plain": [
       "(torch.Size([2, 3, 3]), 3)"
      ]
     },
     "execution_count": 23,
     "metadata": {},
     "output_type": "execute_result"
    }
   ],
   "source": [
    "TENS = torch.tensor([[[2,3,4],\n",
    "                      [5,2,1],\n",
    "                      [5,7,9]],\n",
    "                    [[2,5,2],\n",
    "                    [1,2,8],\n",
    "                    [4,6,9]]])\n",
    "TENS.shape, TENS.ndim"
   ]
  },
  {
   "cell_type": "markdown",
   "id": "187c7f7f-f133-4eef-8de8-f2a364cbb4c4",
   "metadata": {},
   "source": [
    "### ii. creating random tensors\n",
    "\n",
    "they are important as parameters are initialised with random numbers"
   ]
  },
  {
   "cell_type": "code",
   "execution_count": 30,
   "id": "4cbf10a0-7c93-41c7-9e21-f7afd63d74e6",
   "metadata": {},
   "outputs": [
    {
     "data": {
      "text/plain": [
       "tensor([[[0.9445, 0.2271, 0.5071]],\n",
       "\n",
       "        [[0.8499, 0.1605, 0.9990]]])"
      ]
     },
     "execution_count": 30,
     "metadata": {},
     "output_type": "execute_result"
    }
   ],
   "source": [
    "randn_tens = torch.rand(size=(2,1,3)) # create random number of uniform distribution between 0 and 1. eg: an image of HXWXchs\n",
    "randn_tens"
   ]
  },
  {
   "cell_type": "markdown",
   "id": "e05fab9e-bf7f-4580-86b0-0a2e929d3035",
   "metadata": {},
   "source": [
    "#### + impart reproduciblity\n",
    "Note that we need to explicitely give the seed everytime before the tensor creation"
   ]
  },
  {
   "cell_type": "code",
   "execution_count": 141,
   "id": "77be53b6-1f0e-4e18-a2cb-c14fa1d0f419",
   "metadata": {},
   "outputs": [
    {
     "data": {
      "text/plain": [
       "tensor([[[True, True, True]],\n",
       "\n",
       "        [[True, True, True]]])"
      ]
     },
     "execution_count": 141,
     "metadata": {},
     "output_type": "execute_result"
    }
   ],
   "source": [
    "RANDOM_SEED = 42\n",
    "torch.manual_seed(RANDOM_SEED)\n",
    "\n",
    "tens1 = torch.rand(size=(2,1,3)) \n",
    "\n",
    "torch.manual_seed(RANDOM_SEED)\n",
    "\n",
    "tens2 = torch.rand(size=(2,1,3))\n",
    "tens1==tens2"
   ]
  },
  {
   "cell_type": "markdown",
   "id": "b0c53f00-47a7-4bdf-aba0-2e83146482c8",
   "metadata": {},
   "source": [
    "### iii. creating zero tensors"
   ]
  },
  {
   "cell_type": "code",
   "execution_count": 32,
   "id": "7958cf44-11ee-4595-9270-c5eed62ac95c",
   "metadata": {},
   "outputs": [
    {
     "data": {
      "text/plain": [
       "tensor([[[0., 0., 0.]],\n",
       "\n",
       "        [[0., 0., 0.]]])"
      ]
     },
     "execution_count": 32,
     "metadata": {},
     "output_type": "execute_result"
    }
   ],
   "source": [
    "zeros = torch.zeros(size = (2,1,3))\n",
    "zeros"
   ]
  },
  {
   "cell_type": "markdown",
   "id": "8784ea53-936b-4fa6-9ccc-5bf390433a96",
   "metadata": {},
   "source": [
    "### iv. Creating zeros-like\n",
    "Used to create zero tensors of same size as another tensor. Mostly useful to,\n",
    "* Initiate a parameter matrix with zero\n",
    "* Nulltify the parameter matrix by multiplying with zero matrix of same size"
   ]
  },
  {
   "cell_type": "code",
   "execution_count": 13,
   "id": "7497fba3-c81b-43e4-8ca1-1489963aeb43",
   "metadata": {},
   "outputs": [
    {
     "data": {
      "text/plain": [
       "tensor([[[0., 0., 0.]],\n",
       "\n",
       "        [[0., 0., 0.]]])"
      ]
     },
     "execution_count": 13,
     "metadata": {},
     "output_type": "execute_result"
    }
   ],
   "source": [
    "zeros_like = torch.zeros_like(input = randn_tens)\n",
    "zeros_like"
   ]
  },
  {
   "cell_type": "markdown",
   "id": "84bdb228-62ce-4cc3-9911-982fd8c00edc",
   "metadata": {},
   "source": [
    "### iv. creating ones tensors"
   ]
  },
  {
   "cell_type": "code",
   "execution_count": 33,
   "id": "84e1016d-61b4-4a9c-86d7-ca44c18e6a0b",
   "metadata": {},
   "outputs": [
    {
     "data": {
      "text/plain": [
       "tensor([[[1., 1., 1.]],\n",
       "\n",
       "        [[1., 1., 1.]]])"
      ]
     },
     "execution_count": 33,
     "metadata": {},
     "output_type": "execute_result"
    }
   ],
   "source": [
    "ones = torch.ones(size = (2,1,3))\n",
    "ones"
   ]
  },
  {
   "cell_type": "markdown",
   "id": "8387f12b-82d4-4765-bd0e-9cc060b431f4",
   "metadata": {},
   "source": [
    "### v. Creating range of tensors"
   ]
  },
  {
   "cell_type": "code",
   "execution_count": 12,
   "id": "e3b926d6-ae05-484f-872f-30f6716c8beb",
   "metadata": {},
   "outputs": [
    {
     "data": {
      "text/plain": [
       "tensor([10,  8,  6,  4,  2])"
      ]
     },
     "execution_count": 12,
     "metadata": {},
     "output_type": "execute_result"
    }
   ],
   "source": [
    "torch.arange(10,0,-2)"
   ]
  },
  {
   "cell_type": "markdown",
   "id": "a0395737-2056-4034-bc46-8331f4fcb1a1",
   "metadata": {},
   "source": [
    "## b. Tensor datatypes\n",
    "the default datatype is float32 if float values are given as input and will be int64, if inputs are integers\n",
    "\n",
    "for floating points,\n",
    "* 32bit - till $10^{-7}$ precision. eg: 5.0011525 x $10^8$. Single precision\n",
    "* 64bit - till $10^{-15} - 10^{-17}$ precision. Double precision\n",
    "\n",
    "for integers,\n",
    "* uint (unsigned) - used if tensors only contain non-negative values. The range is doubled due to absence of negative values"
   ]
  },
  {
   "cell_type": "code",
   "execution_count": 15,
   "id": "305be004-7aa3-43cd-8cfb-4410a39ea223",
   "metadata": {},
   "outputs": [
    {
     "data": {
      "text/plain": [
       "torch.float32"
      ]
     },
     "execution_count": 15,
     "metadata": {},
     "output_type": "execute_result"
    }
   ],
   "source": [
    "float_32_tens = torch.tensor([3.,6,9], dtype=None)\n",
    "float_32_tens.dtype"
   ]
  },
  {
   "cell_type": "code",
   "execution_count": 18,
   "id": "7a2194af-50ad-4abd-ba22-34304017a676",
   "metadata": {},
   "outputs": [
    {
     "data": {
      "text/plain": [
       "torch.float16"
      ]
     },
     "execution_count": 18,
     "metadata": {},
     "output_type": "execute_result"
    }
   ],
   "source": [
    "float_16_tens = torch.tensor([3.,6,9], dtype=torch.float16)\n",
    "float_16_tens.dtype"
   ]
  },
  {
   "cell_type": "code",
   "execution_count": 22,
   "id": "585c404a-7eba-4173-83d9-3812505f1069",
   "metadata": {},
   "outputs": [
    {
     "data": {
      "text/plain": [
       "torch.float16"
      ]
     },
     "execution_count": 22,
     "metadata": {},
     "output_type": "execute_result"
    }
   ],
   "source": [
    "# convert data type\n",
    "float_32_tens = float_32_tens.type(torch.float16)\n",
    "float_32_tens.dtype"
   ]
  },
  {
   "cell_type": "code",
   "execution_count": 23,
   "id": "50f96c07-3a62-40e5-8ea2-cd008d0e6c81",
   "metadata": {},
   "outputs": [
    {
     "data": {
      "text/plain": [
       "device(type='cpu')"
      ]
     },
     "execution_count": 23,
     "metadata": {},
     "output_type": "execute_result"
    }
   ],
   "source": [
    "float_32_tens.device"
   ]
  },
  {
   "cell_type": "code",
   "execution_count": 28,
   "id": "8360bb7a-bc2c-4c09-9b19-6bcb14080dad",
   "metadata": {},
   "outputs": [
    {
     "data": {
      "text/plain": [
       "tensor([3., 6., 9.], device='cuda:0')"
      ]
     },
     "execution_count": 28,
     "metadata": {},
     "output_type": "execute_result"
    }
   ],
   "source": [
    "# convert tensor datatype, device\n",
    "float_16_tens.to(dtype=torch.float32, device=\"cuda:0\")"
   ]
  },
  {
   "cell_type": "markdown",
   "id": "7f9d59f7-fb31-4249-a446-0b95c7ce8cdb",
   "metadata": {},
   "source": [
    "## Tensor operations\n",
    "The main issues with tensor operations,\n",
    "* Tensors not having right datatype (rarely gives an error, therefore better to have of uniform type) `tensor.dtype`\n",
    "* Tensors not in right shape - `tensor.shape`\n",
    "* tensors not on the right device (operations between cuda tensor and cpu tensor wont work) - `tensor.device`"
   ]
  },
  {
   "cell_type": "markdown",
   "id": "02cf7c68-51fb-48d0-ae67-d8812852a7ce",
   "metadata": {},
   "source": [
    "### i. matrix multiplication"
   ]
  },
  {
   "cell_type": "code",
   "execution_count": 2,
   "id": "df00cdf5-e35a-4e19-bfef-aea25eada3bf",
   "metadata": {},
   "outputs": [],
   "source": [
    "mat1 = torch.rand(size=(2,3))\n",
    "mat2 = torch.rand(size=(3,6))"
   ]
  },
  {
   "cell_type": "code",
   "execution_count": 46,
   "id": "954bb6ef-bcff-48f9-b334-63aaccb3a8b8",
   "metadata": {},
   "outputs": [
    {
     "data": {
      "text/plain": [
       "tensor([[0.9872, 1.0764, 0.7090, 0.4307, 0.5358, 0.9093],\n",
       "        [0.5132, 0.7958, 0.8043, 0.1024, 0.3107, 0.8639]])"
      ]
     },
     "execution_count": 46,
     "metadata": {},
     "output_type": "execute_result"
    }
   ],
   "source": [
    "# matrix multiplication\n",
    "multi = torch.matmul(mat1, mat2)\n",
    "multi"
   ]
  },
  {
   "cell_type": "markdown",
   "id": "cd731d03-cb55-496e-b263-26dec7f36232",
   "metadata": {},
   "source": [
    "### ii. Tensor aggregation\n",
    "#### + min, max, sum etc."
   ]
  },
  {
   "cell_type": "code",
   "execution_count": 66,
   "id": "057a5460-f9d2-4b53-a5c7-f95cef2412bb",
   "metadata": {},
   "outputs": [],
   "source": [
    "vec = torch.tensor([5,15,10, 12, 5])"
   ]
  },
  {
   "cell_type": "code",
   "execution_count": 63,
   "id": "439cadfb-1ce0-4ea1-a258-7e6c5876f0b6",
   "metadata": {},
   "outputs": [
    {
     "data": {
      "text/plain": [
       "(torch.return_types.max(\n",
       " values=tensor([0.9872, 1.0764, 0.8043, 0.4307, 0.5358, 0.9093]),\n",
       " indices=tensor([0, 0, 1, 0, 0, 0])),\n",
       " torch.return_types.max(\n",
       " values=tensor([1.0764, 0.8639]),\n",
       " indices=tensor([1, 5])))"
      ]
     },
     "execution_count": 63,
     "metadata": {},
     "output_type": "execute_result"
    }
   ],
   "source": [
    "torch.max(multi, axis=0), multi.max(axis=1) # if required along an axis. both the functions work fine"
   ]
  },
  {
   "cell_type": "code",
   "execution_count": 61,
   "id": "8395e50c-efd0-457b-8ae9-44c37e5dc48e",
   "metadata": {},
   "outputs": [
    {
     "data": {
      "text/plain": [
       "tensor(10.)"
      ]
     },
     "execution_count": 61,
     "metadata": {},
     "output_type": "execute_result"
    }
   ],
   "source": [
    "# note that the operation wont work with integer datatype\n",
    "# torch.mean(vec)\n",
    "torch.mean(vec.type(torch.float32))"
   ]
  },
  {
   "cell_type": "markdown",
   "id": "0605d6b0-0897-4755-a8ef-fa2ee2d3b822",
   "metadata": {},
   "source": [
    "#### + find the position (argmin and argmax)\n",
    "\n",
    "used with sigmoid and softmax to find the index of the maximum probability"
   ]
  },
  {
   "cell_type": "code",
   "execution_count": 67,
   "id": "9226a364-d6da-453a-b281-7cfef9b3878a",
   "metadata": {},
   "outputs": [
    {
     "data": {
      "text/plain": [
       "tensor(0)"
      ]
     },
     "execution_count": 67,
     "metadata": {},
     "output_type": "execute_result"
    }
   ],
   "source": [
    "torch.argmin(vec) # gives the index value. Gives the first occuring minimum"
   ]
  },
  {
   "cell_type": "markdown",
   "id": "68a05a15-4112-4c8f-ab63-683aec5b4013",
   "metadata": {},
   "source": [
    "### iii. hermitian\n",
    "transpose conjugate"
   ]
  },
  {
   "cell_type": "code",
   "execution_count": 3,
   "id": "00d6937f-8ee6-416d-8bf1-fe79af832271",
   "metadata": {},
   "outputs": [
    {
     "data": {
      "text/plain": [
       "tensor([[0.5574, 0.7834],\n",
       "        [0.0200, 0.3291],\n",
       "        [0.7185, 0.0979]])"
      ]
     },
     "execution_count": 3,
     "metadata": {},
     "output_type": "execute_result"
    }
   ],
   "source": [
    "mat1.H"
   ]
  },
  {
   "cell_type": "markdown",
   "id": "4e8869c5-b19b-4d47-97a1-d705b67eca7c",
   "metadata": {},
   "source": [
    "## Tensor reshaping, stack, squeezing and unsqueezing\n",
    "* reshaping or view - but view shares the same memory. Therefore, shows the same tensor from different perspective. so, changing a view's value will change the original tensor as well\n",
    "* stack\n",
    "* squeeze - removes `1` dimensions from a tensor\n",
    "* unsqueeze - adds `1` dimensions wherever required\n",
    "* permute - return a view of a tensor with dimensions permutted (swapped) in a certain way"
   ]
  },
  {
   "cell_type": "code",
   "execution_count": 123,
   "id": "acf80f5f-9978-4ceb-bf7e-33be57050d2c",
   "metadata": {},
   "outputs": [],
   "source": [
    "x = torch.arange(1.,10.)"
   ]
  },
  {
   "cell_type": "markdown",
   "id": "2260bafa-8b0a-45bf-94eb-7799a5d56e76",
   "metadata": {},
   "source": [
    "### i. Reshape"
   ]
  },
  {
   "cell_type": "code",
   "execution_count": 74,
   "id": "7aa17750-dc7a-4ce2-96f4-0a341a6d6e59",
   "metadata": {},
   "outputs": [
    {
     "data": {
      "text/plain": [
       "tensor([[1., 2., 3.],\n",
       "        [4., 5., 6.],\n",
       "        [7., 8., 9.]])"
      ]
     },
     "execution_count": 74,
     "metadata": {},
     "output_type": "execute_result"
    }
   ],
   "source": [
    "x.reshape(3,3) # always fills rowswise"
   ]
  },
  {
   "cell_type": "markdown",
   "id": "6a272a22-cea9-417c-9ddc-b221e9390687",
   "metadata": {},
   "source": [
    "### ii. view"
   ]
  },
  {
   "cell_type": "code",
   "execution_count": 94,
   "id": "e7c16c07-935e-46c3-a7b5-4ea036aa5ca8",
   "metadata": {},
   "outputs": [
    {
     "data": {
      "text/plain": [
       "(tensor([[ 5.,  6.,  7.],\n",
       "         [ 8.,  9., 10.],\n",
       "         [11., 12., 13.]]),\n",
       " tensor([ 5.,  6.,  7.,  8.,  9., 10., 11., 12., 13.]))"
      ]
     },
     "execution_count": 94,
     "metadata": {},
     "output_type": "execute_result"
    }
   ],
   "source": [
    "z = x.view(3,3)\n",
    "z += 1\n",
    "z, x"
   ]
  },
  {
   "cell_type": "markdown",
   "id": "f9443568-4e7d-430e-a409-6ae5a9abe5b8",
   "metadata": {},
   "source": [
    "### iii. stack\n",
    "takes a list of tensors and concatenates along the described dimension. Always will be able to concatenate along an extra dimension. That is, eg: 3X3, 3X3 concatenation along `dim=0`, will give 2X3X3, similarly, if `dim=2`, it gives 3X3X2"
   ]
  },
  {
   "cell_type": "code",
   "execution_count": 89,
   "id": "43b11149-c186-492f-97ec-5fbd715b9206",
   "metadata": {},
   "outputs": [
    {
     "data": {
      "text/plain": [
       "tensor([[ 4.,  5.,  6.,  7.,  8.,  9., 10., 11., 12.],\n",
       "        [ 4.,  5.,  6.,  7.,  8.,  9., 10., 11., 12.]])"
      ]
     },
     "execution_count": 89,
     "metadata": {},
     "output_type": "execute_result"
    }
   ],
   "source": [
    "# along 0th dimension - default\n",
    "z = torch.stack([x,x], dim=0) # stacked vertically\n",
    "z"
   ]
  },
  {
   "cell_type": "code",
   "execution_count": 124,
   "id": "6a7a956f-988d-437b-9d08-509d344f357e",
   "metadata": {},
   "outputs": [
    {
     "data": {
      "text/plain": [
       "tensor([[1., 1.],\n",
       "        [2., 2.],\n",
       "        [3., 3.],\n",
       "        [4., 4.],\n",
       "        [5., 5.],\n",
       "        [6., 6.],\n",
       "        [7., 7.],\n",
       "        [8., 8.],\n",
       "        [9., 9.]])"
      ]
     },
     "execution_count": 124,
     "metadata": {},
     "output_type": "execute_result"
    }
   ],
   "source": [
    "# along 1st dimension\n",
    "torch.stack((x,x), dim=1)"
   ]
  },
  {
   "cell_type": "code",
   "execution_count": 102,
   "id": "256b4c3f-baab-489d-8ae9-51763a8f61be",
   "metadata": {},
   "outputs": [
    {
     "data": {
      "text/plain": [
       "torch.Size([3, 3, 2])"
      ]
     },
     "execution_count": 102,
     "metadata": {},
     "output_type": "execute_result"
    }
   ],
   "source": [
    "torch.stack([z,z], dim=2).shape"
   ]
  },
  {
   "cell_type": "markdown",
   "id": "60241d5e-8f51-44ed-a526-b728d6a95ea9",
   "metadata": {},
   "source": [
    "### iv. squeeze"
   ]
  },
  {
   "cell_type": "code",
   "execution_count": 111,
   "id": "88925fee-9dc0-403c-b217-fe6be20024d9",
   "metadata": {},
   "outputs": [
    {
     "data": {
      "text/plain": [
       "(torch.Size([1, 2, 3, 1, 2, 1]), torch.Size([2, 3, 2]))"
      ]
     },
     "execution_count": 111,
     "metadata": {},
     "output_type": "execute_result"
    }
   ],
   "source": [
    "x = torch.ones(size=(1,2,3,1,2,1))\n",
    "x.shape, torch.squeeze(x).shape"
   ]
  },
  {
   "cell_type": "markdown",
   "id": "5395360b-be88-4dc0-9fa2-7a86fc8a0458",
   "metadata": {},
   "source": [
    "### v. unsqueeze"
   ]
  },
  {
   "cell_type": "code",
   "execution_count": 116,
   "id": "c36541b2-7b3b-45ed-bb17-ed69040c3eb4",
   "metadata": {},
   "outputs": [
    {
     "data": {
      "text/plain": [
       "torch.Size([9, 1])"
      ]
     },
     "execution_count": 116,
     "metadata": {},
     "output_type": "execute_result"
    }
   ],
   "source": [
    "y = torch.squeeze(x)\n",
    "torch.unsqueeze(y, dim=-1).shape"
   ]
  },
  {
   "cell_type": "markdown",
   "id": "31a4a417-2a20-40d4-9b53-7afd8a11e973",
   "metadata": {},
   "source": [
    "### vi. permute\n",
    "swap the dimension values. mostly used with images. Will also share the same memory"
   ]
  },
  {
   "cell_type": "code",
   "execution_count": 125,
   "id": "0c4d302a-6558-4081-8cdd-6dc42dad68d3",
   "metadata": {},
   "outputs": [
    {
     "data": {
      "text/plain": [
       "tensor([[[1.8782e-01, 9.6123e-01, 8.3677e-01],\n",
       "         [5.0146e-01, 9.6511e-01, 5.6166e-01]],\n",
       "\n",
       "        [[3.3834e-01, 6.7815e-01, 6.0816e-01],\n",
       "         [8.6678e-01, 8.5294e-04, 9.5655e-01]],\n",
       "\n",
       "        [[4.5870e-01, 5.3338e-01, 8.9574e-01],\n",
       "         [2.8480e-01, 3.4833e-01, 9.5908e-02]],\n",
       "\n",
       "        [[7.6449e-01, 4.9989e-01, 3.2407e-01],\n",
       "         [8.7857e-01, 4.7287e-01, 9.1087e-01]]])"
      ]
     },
     "execution_count": 125,
     "metadata": {},
     "output_type": "execute_result"
    }
   ],
   "source": [
    "x = torch.rand(size=(4,2,3))\n",
    "x"
   ]
  },
  {
   "cell_type": "code",
   "execution_count": 128,
   "id": "3368fd75-aff1-40e2-9876-08a0f77cb4c5",
   "metadata": {},
   "outputs": [
    {
     "data": {
      "text/plain": [
       "tensor([[[1.8782e-01, 5.0146e-01],\n",
       "         [3.3834e-01, 8.6678e-01],\n",
       "         [4.5870e-01, 2.8480e-01],\n",
       "         [7.6449e-01, 8.7857e-01]],\n",
       "\n",
       "        [[9.6123e-01, 9.6511e-01],\n",
       "         [6.7815e-01, 8.5294e-04],\n",
       "         [5.3338e-01, 3.4833e-01],\n",
       "         [4.9989e-01, 4.7287e-01]],\n",
       "\n",
       "        [[8.3677e-01, 5.6166e-01],\n",
       "         [6.0816e-01, 9.5655e-01],\n",
       "         [8.9574e-01, 9.5908e-02],\n",
       "         [3.2407e-01, 9.1087e-01]]])"
      ]
     },
     "execution_count": 128,
     "metadata": {},
     "output_type": "execute_result"
    }
   ],
   "source": [
    "y = torch.permute(x, dims=(2,0,1)) # indices of dimensions\n",
    "y"
   ]
  },
  {
   "cell_type": "code",
   "execution_count": 130,
   "id": "3794855c-072b-4990-a12d-6d414e28c2e3",
   "metadata": {},
   "outputs": [
    {
     "data": {
      "text/plain": [
       "tensor(5.)"
      ]
     },
     "execution_count": 130,
     "metadata": {},
     "output_type": "execute_result"
    }
   ],
   "source": [
    "x[0,0,0] = 5 # since they share the same memory\n",
    "y[0,0,0]"
   ]
  },
  {
   "cell_type": "markdown",
   "id": "981e0d3b-7d56-4f7e-8a47-ec80404f28e2",
   "metadata": {},
   "source": [
    "## PyTorch and NumPy"
   ]
  },
  {
   "cell_type": "markdown",
   "id": "029464f3-af86-4fd8-a813-4213c6ce2dcd",
   "metadata": {},
   "source": [
    "### i. numpy -> tensor\n",
    "Note: default of numpy is double point precision. Therefore, change it always"
   ]
  },
  {
   "cell_type": "code",
   "execution_count": 137,
   "id": "f80775e4-f319-4046-9574-756c70be6bc8",
   "metadata": {},
   "outputs": [
    {
     "data": {
      "text/plain": [
       "tensor([0., 1., 2., 3., 4., 5., 6., 7.])"
      ]
     },
     "execution_count": 137,
     "metadata": {},
     "output_type": "execute_result"
    }
   ],
   "source": [
    "arr = np.arange(8.)\n",
    "tens = torch.from_numpy(arr).type(torch.float32)\n",
    "tens"
   ]
  },
  {
   "cell_type": "markdown",
   "id": "2af8ec49-5fee-4ee5-8346-6f0fc9c03867",
   "metadata": {},
   "source": [
    "### ii. tensor -> numpy"
   ]
  },
  {
   "cell_type": "code",
   "execution_count": 138,
   "id": "e0eec057-97ac-4e5c-a893-f7eab41c2a55",
   "metadata": {},
   "outputs": [
    {
     "data": {
      "text/plain": [
       "array([0., 1., 2., 3., 4., 5., 6., 7.], dtype=float32)"
      ]
     },
     "execution_count": 138,
     "metadata": {},
     "output_type": "execute_result"
    }
   ],
   "source": [
    "tens.numpy()"
   ]
  },
  {
   "cell_type": "markdown",
   "id": "51b00d6b-e518-4755-a856-73dee4f3ffc3",
   "metadata": {},
   "source": [
    "## Running tensors on GPUs"
   ]
  },
  {
   "cell_type": "markdown",
   "id": "eda9116a-d29f-4a2c-a4b2-f1daf583ebd1",
   "metadata": {},
   "source": [
    "### i. check availbility"
   ]
  },
  {
   "cell_type": "code",
   "execution_count": 142,
   "id": "8f8cae58-9d46-495b-b45c-d708da01e7d7",
   "metadata": {},
   "outputs": [
    {
     "data": {
      "text/plain": [
       "True"
      ]
     },
     "execution_count": 142,
     "metadata": {},
     "output_type": "execute_result"
    }
   ],
   "source": [
    "torch.cuda.is_available()"
   ]
  },
  {
   "cell_type": "markdown",
   "id": "8b51f3cc-af7a-448d-8bb8-acfa002ed2e3",
   "metadata": {},
   "source": [
    "### ii. count number of gpus\n",
    "required if different models are to be run on different gpus"
   ]
  },
  {
   "cell_type": "code",
   "execution_count": 145,
   "id": "7acda58b-d80e-46ce-9846-f2fb041d5c1b",
   "metadata": {},
   "outputs": [
    {
     "data": {
      "text/plain": [
       "1"
      ]
     },
     "execution_count": 145,
     "metadata": {},
     "output_type": "execute_result"
    }
   ],
   "source": [
    "torch.cuda.device_count()"
   ]
  },
  {
   "cell_type": "markdown",
   "id": "25362da1-a00e-41eb-8a23-45385501b424",
   "metadata": {},
   "source": [
    "### iii. setup gpu"
   ]
  },
  {
   "cell_type": "code",
   "execution_count": 6,
   "id": "ae19ce71-3359-45c0-a535-99e4a1e2c753",
   "metadata": {},
   "outputs": [],
   "source": [
    "device = \"cuda:0\" if torch.cuda.is_available() else \"cpu\" # :0 is the index of the gpu. since we only have 1, can be ignored"
   ]
  },
  {
   "cell_type": "markdown",
   "id": "053ce9ef-7bca-4553-b191-d81684415dca",
   "metadata": {},
   "source": [
    "### iv. Putting tensors (models) on the GPU"
   ]
  },
  {
   "cell_type": "code",
   "execution_count": 4,
   "id": "0fc80002-f5a9-477c-a825-d56f4b2d83f2",
   "metadata": {},
   "outputs": [
    {
     "data": {
      "text/plain": [
       "(tensor([0., 1., 2., 3., 4., 5., 6., 7., 8., 9.]), device(type='cpu'))"
      ]
     },
     "execution_count": 4,
     "metadata": {},
     "output_type": "execute_result"
    }
   ],
   "source": [
    "tens = torch.arange(10., device =\"cpu\") # cpu is default\n",
    "tens, tens.device"
   ]
  },
  {
   "cell_type": "code",
   "execution_count": 7,
   "id": "22b36a51-78a5-407e-901b-db5e73fae8b0",
   "metadata": {},
   "outputs": [
    {
     "data": {
      "text/plain": [
       "tensor([0., 1., 2., 3., 4., 5., 6., 7., 8., 9.], device='cuda:0')"
      ]
     },
     "execution_count": 7,
     "metadata": {},
     "output_type": "execute_result"
    }
   ],
   "source": [
    "tens_on_gpu = tens.to(device = device)\n",
    "tens_on_gpu"
   ]
  },
  {
   "cell_type": "markdown",
   "id": "7a149f0c-1c2c-4c8f-8743-d2ef740fa329",
   "metadata": {},
   "source": [
    "### Moving tensors back to cpu\n",
    "Used since numpy can work only on cpu"
   ]
  },
  {
   "cell_type": "code",
   "execution_count": 183,
   "id": "c6ad1322-56c3-4a0f-be73-0b60bbf1ed15",
   "metadata": {},
   "outputs": [
    {
     "data": {
      "text/plain": [
       "array([0., 1., 2., 3., 4., 5., 6., 7., 8., 9.], dtype=float32)"
      ]
     },
     "execution_count": 183,
     "metadata": {},
     "output_type": "execute_result"
    }
   ],
   "source": [
    "tens_on_gpu.cpu().numpy()"
   ]
  },
  {
   "cell_type": "markdown",
   "id": "d7bcb3dd-37ce-4b83-b7fb-7f0d162476e9",
   "metadata": {},
   "source": [
    "### check if a tensor is running on gpu"
   ]
  },
  {
   "cell_type": "code",
   "execution_count": 10,
   "id": "25a28d7d-da27-4acc-afbe-d70c992856a8",
   "metadata": {},
   "outputs": [
    {
     "data": {
      "text/plain": [
       "True"
      ]
     },
     "execution_count": 10,
     "metadata": {},
     "output_type": "execute_result"
    }
   ],
   "source": [
    "tens_on_gpu.is_cuda"
   ]
  }
 ],
 "metadata": {
  "kernelspec": {
   "display_name": "gpu_torch",
   "language": "python",
   "name": "gpu"
  },
  "language_info": {
   "codemirror_mode": {
    "name": "ipython",
    "version": 3
   },
   "file_extension": ".py",
   "mimetype": "text/x-python",
   "name": "python",
   "nbconvert_exporter": "python",
   "pygments_lexer": "ipython3",
   "version": "3.11.1"
  }
 },
 "nbformat": 4,
 "nbformat_minor": 5
}
