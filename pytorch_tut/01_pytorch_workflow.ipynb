{
 "cells": [
  {
   "cell_type": "markdown",
   "id": "8ec889de-1e5b-4039-8927-cac9400a181b",
   "metadata": {},
   "source": [
    "# pytorch workflow\n",
    "1. Get data ready (turn into tensors)\n",
    "2. Build or pick a pretrained model\n",
    "3. Fitting the model to data (training)\n",
    "4. Make predictions using the fitted model\n",
    "5. Improve through tuning parameters and hyperparameters through experimentation\n",
    "6. Save and reload the trained model"
   ]
  },
  {
   "cell_type": "code",
   "execution_count": 154,
   "id": "ceaaffde-b278-43fb-8fc1-c182d42a2b35",
   "metadata": {},
   "outputs": [],
   "source": [
    "import os\n",
    "import torch\n",
    "from torch import nn # contains all the building blocks for pytorch\n",
    "import matplotlib.pyplot as plt\n",
    "torch.__version__\n",
    "\n",
    "# visualise training, test data and compares predictions\n",
    "def plot_predictions(data = X_train, label=y_train, predictions = None):\n",
    "    fig, ax = plt.subplots(figsize=(4,4))\n",
    "    ax.scatter(data, label, c=\"b\", s=4, label=\"Training Data\")\n",
    "\n",
    "    if predictions is not None: ax.plot(data, predictions, c=\"g\", label=\"Prediction\")\n",
    "\n",
    "    plt.tight_layout()\n",
    "    plt.legend()\n",
    "    plt.show()"
   ]
  },
  {
   "cell_type": "markdown",
   "id": "70998ff3-d1f6-42d3-a042-c82ebe273073",
   "metadata": {},
   "source": [
    "# 1. Data (preparing and loading)"
   ]
  },
  {
   "cell_type": "code",
   "execution_count": 4,
   "id": "f9db2361-342e-42b4-95bc-b5bfae02de75",
   "metadata": {},
   "outputs": [],
   "source": [
    "# create some data\n",
    "start = 0\n",
    "end = 1\n",
    "step = 0.02\n",
    "\n",
    "X = torch.arange(start, end, step).unsqueeze(dim=1) # since pytorch requires the data to be in 2D, 2nd dimension is feature\n",
    "\n",
    "# labels\n",
    "wt = 0.7\n",
    "bias = 0.3\n",
    "y = wt * X + bias # in actual, the output will be known, we need to find the params by finding the pattern"
   ]
  },
  {
   "cell_type": "code",
   "execution_count": 30,
   "id": "717ed3a6-c2d1-44a8-a706-8c10deb66d6f",
   "metadata": {},
   "outputs": [
    {
     "data": {
      "image/png": "[encoded data removed]",
      "text/plain": [
       "<Figure size 400x400 with 1 Axes>"
      ]
     },
     "metadata": {},
     "output_type": "display_data"
    }
   ],
   "source": [
    "# splitting train, test data. lets do a simple split\n",
    "train_split = int(0.8 * len(X))\n",
    "\n",
    "X_train, y_train = X[:train_split], y[:train_split]\n",
    "X_test, y_test = X[train_split:], y[train_split:]\n",
    "\n",
    "len(X_train), len(X_test)\n",
    "\n",
    "plot_predictions(X_train, y_train)"
   ]
  },
  {
   "cell_type": "markdown",
   "id": "1383f043-4a58-4401-9c46-a629cdd4591f",
   "metadata": {},
   "source": [
    "# 2. Build Model \n",
    "\n",
    "## PyTorch building essentials\n",
    "* torch.nn - contains all the building for computation\n",
    "* torch.nn.Parameter - what params should our model try and learn\n",
    "* nn.Module - base calass for all NN modules\n",
    "* torch.optim - this is where optimisers live, they help in gradient descent\n",
    "\n",
    "lets use linear regresssion model class. simnple model, therefore we are explicitely setting weights and bias to random values. in practise, we will create as layers (with number of neurons in each layer)."
   ]
  },
  {
   "cell_type": "code",
   "execution_count": 133,
   "id": "07675626-28ec-48c4-bb4e-d2d63d5509f8",
   "metadata": {},
   "outputs": [],
   "source": [
    "class LinearRegressionModel(nn.Module): # Model that we build should be subclass of this class\n",
    "    def __init__(self):\n",
    "        super().__init__()\n",
    "\n",
    "        self.weights = nn.Parameter(torch.randn(size=(1,), dtype=torch.float32), requires_grad=True) # a tensor that will be part of module parameter\n",
    "        self.bias = nn.Parameter(torch.randn(size=(1,), dtype=torch.float32), requires_grad=True) # require_grad = True is default\n",
    "        # require_grad - to track of all the gradients so that it can be used with torch.autograd (pytorch fn to compute the gradient descent)\n",
    "\n",
    "    def forward(self, x : torch.Tensor) -> torch.Tensor: # expects data as tensor and returns a tensor\n",
    "        return self.weights * x + self.bias\n",
    "\n",
    "    "
   ]
  },
  {
   "cell_type": "markdown",
   "id": "e3ac00dc-10a1-474f-b324-b77b9bbc212f",
   "metadata": {},
   "source": [
    "## Checking the contents of our PyTorch model\n",
    "\n",
    "use `.parameters()`"
   ]
  },
  {
   "cell_type": "code",
   "execution_count": 144,
   "id": "7a70b275-e627-47b8-a4c7-525eb1701801",
   "metadata": {},
   "outputs": [
    {
     "data": {
      "text/plain": [
       "[Parameter containing:\n",
       " tensor([0.3367], requires_grad=True),\n",
       " Parameter containing:\n",
       " tensor([0.1288], requires_grad=True)]"
      ]
     },
     "execution_count": 144,
     "metadata": {},
     "output_type": "execute_result"
    }
   ],
   "source": [
    "torch.manual_seed(42)\n",
    "\n",
    "model_0 = LinearRegressionModel()\n",
    "\n",
    "list(model_0.parameters())"
   ]
  },
  {
   "cell_type": "code",
   "execution_count": 60,
   "id": "dd1bcd4b-389c-4322-84e5-1d451ca84f29",
   "metadata": {},
   "outputs": [
    {
     "data": {
      "text/plain": [
       "(OrderedDict([('weights', tensor([0.3367])), ('bias', tensor([0.1288]))]),\n",
       " odict_keys(['weights', 'bias']))"
      ]
     },
     "execution_count": 60,
     "metadata": {},
     "output_type": "execute_result"
    }
   ],
   "source": [
    "# list named parameters\n",
    "model_0.state_dict(), model_0.state_dict().keys()"
   ]
  },
  {
   "cell_type": "markdown",
   "id": "0e9d04a0-2072-47b1-9a0d-87217fa63164",
   "metadata": {},
   "source": [
    "# 3. Fitting the model\n",
    "Compute the weights as close to the actual created values of `weight = 0.7 and bias = 0.3`. in actual, we wont know this value. we should reduce the cost"
   ]
  },
  {
   "cell_type": "code",
   "execution_count": 68,
   "id": "8192b299-fec8-4a2c-8ac2-4bb10e5d782b",
   "metadata": {},
   "outputs": [
    {
     "data": {
      "image/png": "[encoded data removed]",
      "text/plain": [
       "<Figure size 400x400 with 1 Axes>"
      ]
     },
     "metadata": {},
     "output_type": "display_data"
    }
   ],
   "source": [
    " # error right now\n",
    "\n",
    "# inference is used to make predictions. therefore, the below function will not keep track fo the gradients. other way to give torch.no_grad()\n",
    "with torch.inference_mode(): # automatically passes through forward of the model. other word for predictions in pytroch is inference\n",
    "    y_preds = model_0(X_test)\n",
    "\n",
    "plot_predictions(X_test, y_test, predictions=y_preds)"
   ]
  },
  {
   "cell_type": "markdown",
   "id": "f959f059-77c2-49c6-8df7-b463297f979a",
   "metadata": {},
   "source": [
    "Things required to train\n",
    "* Loss function\n",
    "* Optimizer - takes into account of the loss of a model and adjusts the parameters (weights and bias) to improve the loss function"
   ]
  },
  {
   "cell_type": "code",
   "execution_count": 145,
   "id": "177c6d1d-09a8-4049-9df1-410156091cbd",
   "metadata": {},
   "outputs": [],
   "source": [
    "# loss function - lets use mean absolute error\n",
    "loss_fn = nn.L1Loss() # same as torch.mean(torch.abs(y_train - y_preds))\n",
    "\n",
    "# optimiser - lets use SGD\n",
    "optim = torch.optim.SGD(params = model_0.parameters(),\n",
    "                     lr = 0.01)"
   ]
  },
  {
   "cell_type": "markdown",
   "id": "bbe67160-47b7-4e03-81ba-a90319d10e9d",
   "metadata": {},
   "source": [
    "## building a training loop\n",
    "Steps involved are,\n",
    "1. Forward propagation\n",
    "2. Calculate loss\n",
    "3. optimizer zero grad\n",
    "4. back propagation - move backward through the network to calculate the gradients of each param of our model with respect to the loss\n",
    "5. optimizer step"
   ]
  },
  {
   "cell_type": "code",
   "execution_count": 147,
   "id": "644223ab-5ffb-4401-a112-f2dd530dbeed",
   "metadata": {
    "scrolled": true
   },
   "outputs": [
    {
     "name": "stdout",
     "output_type": "stream",
     "text": [
      "Epoch: 0 | Test loss: 0.4675942063331604\n",
      "Epoch: 10 | Test loss: 0.3328842222690582\n",
      "Epoch: 20 | Test loss: 0.2069590985774994\n",
      "Epoch: 30 | Test loss: 0.14023718237876892\n",
      "Epoch: 40 | Test loss: 0.11182951927185059\n",
      "Epoch: 50 | Test loss: 0.09809747338294983\n",
      "Epoch: 60 | Test loss: 0.08776430785655975\n",
      "Epoch: 70 | Test loss: 0.0794917643070221\n",
      "Epoch: 80 | Test loss: 0.07190609723329544\n",
      "Epoch: 90 | Test loss: 0.06363357603549957\n",
      "Epoch: 100 | Test loss: 0.05536102131009102\n",
      "Epoch: 110 | Test loss: 0.04777535796165466\n",
      "Epoch: 120 | Test loss: 0.0395028181374073\n",
      "Epoch: 130 | Test loss: 0.031230276450514793\n",
      "Epoch: 140 | Test loss: 0.023644620552659035\n",
      "Epoch: 150 | Test loss: 0.0153720797970891\n",
      "Epoch: 160 | Test loss: 0.007099539041519165\n",
      "Epoch: 170 | Test loss: 0.008447891101241112\n",
      "Epoch: 180 | Test loss: 0.008447891101241112\n",
      "Epoch: 190 | Test loss: 0.008447891101241112\n"
     ]
    }
   ],
   "source": [
    "epochs = 200\n",
    "\n",
    "epoch_count = []\n",
    "test_loss_vals = []\n",
    "train_loss_vals = []\n",
    "\n",
    "for epoch in range(epochs):\n",
    "\n",
    "    ### training ###\n",
    "    model_0.train() # set the model to training. Sets all setting for our training i.e., computing the gradients\n",
    "\n",
    "    # 1. forward pass\n",
    "    y_pred = model_0(X_train) # same as forward\n",
    "\n",
    "    # 2. calculate loss\n",
    "    loss = loss_fn(y_pred, y_train) # inputs, targets\n",
    "\n",
    "    # 3. optimizer zero grad\n",
    "    optim.zero_grad() # if not done, the step (step5) will accumulate, therefore made to 0\n",
    "\n",
    "    # 4. perform back prop\n",
    "    loss.backward()\n",
    "\n",
    "    # step optimizer (SGD)\n",
    "    optim.step()\n",
    "\n",
    "    ### testing ###\n",
    "    model_0.eval() # turns off settings not required for evaluation/testing. eg: dropout, batchnorm etc.\n",
    "\n",
    "    with torch.inference_mode(): # turn of gradient tracking\n",
    "        y_pred = model_0(X_test)\n",
    "\n",
    "    test_loss = loss_fn(y_pred, y_test) # validation score\n",
    "\n",
    "    if epoch % 10 == 0 or epochs <=10:\n",
    "        print(f\"Epoch: {epoch} | Test loss: {test_loss}\")\n",
    "\n",
    "        epoch_count.append(epoch)\n",
    "        train_loss_vals.append(loss)\n",
    "        test_loss_vals.append(test_loss)"
   ]
  },
  {
   "cell_type": "code",
   "execution_count": 137,
   "id": "b160c0e1-0586-48e0-aa85-cdd77f309d84",
   "metadata": {},
   "outputs": [
    {
     "data": {
      "image/png": "[encoded data removed]",
      "text/plain": [
       "<Figure size 400x400 with 1 Axes>"
      ]
     },
     "metadata": {},
     "output_type": "display_data"
    }
   ],
   "source": [
    "plot_predictions(X_test, y_test, predictions=y_pred)"
   ]
  },
  {
   "cell_type": "code",
   "execution_count": 153,
   "id": "b4a2efd7-1960-4798-aa38-51af7f7476ff",
   "metadata": {},
   "outputs": [
    {
     "data": {
      "image/png": "[encoded data removed]",
      "text/plain": [
       "<Figure size 400x400 with 1 Axes>"
      ]
     },
     "metadata": {},
     "output_type": "display_data"
    }
   ],
   "source": [
    "tr_loss = torch.tensor(train_loss_vals).cpu().numpy() # to be able to plot\n",
    "\n",
    "### loss curve ###\n",
    "plot_predictions(epoch_count, tr_loss, predictions=test_loss_vals) # training and test loss\n",
    "\n",
    "# Since they match up, the model is working well"
   ]
  },
  {
   "cell_type": "markdown",
   "id": "c4dfeab8-136a-4235-aed0-5149e46cc112",
   "metadata": {},
   "source": [
    "# 6. Saving and loaading a model\n",
    "\n",
    "* `torch.save()` - save python object in pickle format\n",
    "* `torch.load()` - load a saved python object\n",
    "* `torch.nn.Module.load_state_dict()` - load a model's saved state dictionary"
   ]
  },
  {
   "cell_type": "code",
   "execution_count": 163,
   "id": "2034bc2f-559c-465f-989a-17f59a063fee",
   "metadata": {},
   "outputs": [],
   "source": [
    "# saving our model\n",
    "from pathlib import Path\n",
    "\n",
    "# 1. create model directory\n",
    "model_path = Path(\"models\")\n",
    "model_path.mkdir(parents=True, exist_ok = True)\n",
    "\n",
    "# model save path\n",
    "model_name = \"01_pytorch_workflow_model_0.pth\" # usual pytorch extension\n",
    "model_save_path = model_path / model_name\n",
    "\n",
    "# save model\n",
    "torch.save(obj=model_0.state_dict(),\n",
    "           f = model_save_path)"
   ]
  },
  {
   "cell_type": "code",
   "execution_count": 168,
   "id": "451a157b-0ac0-4dfb-8c50-2d10ee183ebb",
   "metadata": {},
   "outputs": [
    {
     "data": {
      "text/plain": [
       "<All keys matched successfully>"
      ]
     },
     "execution_count": 168,
     "metadata": {},
     "output_type": "execute_result"
    }
   ],
   "source": [
    "# loading our model state_dict. Done only if inference is being done\n",
    "\n",
    "# since only state_dict is saved, we will create a model instance and load the parameters\n",
    "load_model_0 = LinearRegressionModel()\n",
    "\n",
    "# loading the state_dict\n",
    "load_model_0.load_state_dict(torch.load(f=model_save_path, weights_only=False, map_location=\"cpu\"))\n",
    "\n",
    "load_model_0.to(\"cpu\") # to move the entire model to GPU if required"
   ]
  },
  {
   "cell_type": "code",
   "execution_count": 171,
   "id": "2afebd57-f342-4229-8e18-55c461f43220",
   "metadata": {},
   "outputs": [
    {
     "data": {
      "text/plain": [
       "(OrderedDict([('weights', tensor([0.6951])), ('bias', tensor([0.2993]))]),\n",
       " OrderedDict([('weights', tensor([0.6951])), ('bias', tensor([0.2993]))]))"
      ]
     },
     "execution_count": 171,
     "metadata": {},
     "output_type": "execute_result"
    }
   ],
   "source": [
    "load_model_0.state_dict(), model_0.state_dict()"
   ]
  }
 ],
 "metadata": {
  "kernelspec": {
   "display_name": "gpu_torch",
   "language": "python",
   "name": "gpu"
  },
  "language_info": {
   "codemirror_mode": {
    "name": "ipython",
    "version": 3
   },
   "file_extension": ".py",
   "mimetype": "text/x-python",
   "name": "python",
   "nbconvert_exporter": "python",
   "pygments_lexer": "ipython3",
   "version": "3.11.1"
  }
 },
 "nbformat": 4,
 "nbformat_minor": 5
}
