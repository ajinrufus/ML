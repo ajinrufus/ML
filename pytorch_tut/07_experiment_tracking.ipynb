{
 "cells": [
  {
   "cell_type": "markdown",
   "id": "ebcd15e3-47f5-4a45-b102-426bb020d5fe",
   "metadata": {},
   "source": [
    "So far in `04` and `06` we used `TinyVGG` model and a pretrained model and compared their results by comparing their metrics. What is we want to run a **few models at once**. That's where **Experimental Tracking** comes into play. It helps in tracking the machine learning experiments and let us know what works and what doesn't.\n",
    "\n",
    "The ML experiments are tracked by,\n",
    "1. python dictionary - As done using `results` but will get out of hand if huge number of experiments are conducted.\n",
    "2. TensorBoard - extension built into pyTorch\n",
    "3. Wights and Biases Experiment Tracking\n",
    "4. MLFlow"
   ]
  },
  {
   "cell_type": "markdown",
   "id": "a066e85d-1a21-4877-8d89-5084cb47ee6d",
   "metadata": {},
   "source": [
    "Due to the integration with pyTorch, in this notebook we will be using `tensorBoard` to track our experiments."
   ]
  },
  {
   "cell_type": "code",
   "execution_count": 1,
   "id": "3b9ec6ae-d38e-4108-aeb8-151149d41199",
   "metadata": {},
   "outputs": [],
   "source": [
    "import torch\n",
    "import torchvision\n",
    "from torchvision import transforms\n",
    "from torchinfo import summary\n",
    "\n",
    "\n",
    "import matplotlib.pyplot as plt\n",
    "import os\n",
    "import zipfile\n",
    "from pathlib import Path\n",
    "import requests\n",
    "\n",
    "# device agnostic code\n",
    "device = \"cuda\" if torch.cuda.is_available() else \"cpu\""
   ]
  },
  {
   "cell_type": "markdown",
   "id": "68b56e20-286a-408f-aada-cb9396cbbd31",
   "metadata": {},
   "source": [
    "# 1. Get data"
   ]
  },
  {
   "cell_type": "code",
   "execution_count": 2,
   "id": "44be193d-86b0-4e80-844f-f6aa7402b6b5",
   "metadata": {},
   "outputs": [
    {
     "name": "stdout",
     "output_type": "stream",
     "text": [
      "Folder already exists, skipping download ...\n"
     ]
    }
   ],
   "source": [
    "# data path\n",
    "data_path = Path(\"../Dataset/\")\n",
    "\n",
    "# image path\n",
    "img_path = data_path / \"pizza_steak_sushi\"\n",
    "\n",
    "if img_path.is_dir():\n",
    "    print(\"Folder already exists, skipping download ...\")\n",
    "else:\n",
    "    print(\"Folder doesn't exist, creating one ...\")\n",
    "    \n",
    "    # create image folder\n",
    "    img_path.mkdir(parents=True)\n",
    "\n",
    "    # download the data\n",
    "    with open(data_path / \"pizza_steak_sushi.zip\", \"wb\") as f:\n",
    "        request = requests.get(\"https://github.com/mrdbourke/pytorch-deep-learning/raw/main/data/pizza_steak_sushi.zip\")\n",
    "        print(\"Downloading data ...\")\n",
    "\n",
    "        # write data\n",
    "        f.write(request.content)\n",
    "\n",
    "    # extract zip file\n",
    "    with zipfile.ZipFile(data_path / \"pizza_steak_sushi.zip\", \"r\") as f:\n",
    "        print(\"Unzipping the file ...\")\n",
    "\n",
    "        # extract file\n",
    "        f.extractall(img_path)\n",
    "\n",
    "    # delete zipfile\n",
    "    os.remove(data_path / \"pizza_steak_sushi.zip\")"
   ]
  },
  {
   "cell_type": "code",
   "execution_count": 3,
   "id": "21c1f5be-1ad7-406d-a7bc-d5319bcac2ce",
   "metadata": {},
   "outputs": [],
   "source": [
    "# Setup Dirs\n",
    "train_dir = img_path / \"train\"\n",
    "test_dir = img_path / \"test\""
   ]
  },
  {
   "cell_type": "markdown",
   "id": "10651b84-3e43-49cf-a1cf-e2aa40806e61",
   "metadata": {},
   "source": [
    "# 2. Create dataset and dataloders\n",
    "Since we are using a pretrained model, we need to transform our custom data in a way the data used for training the model was sent.\n",
    "1. Resize image to 224X224\n",
    "2. Images need to be normliased in range of [0,1] with mean = [0.485,0.456,0.406] and standard deviation = [0.229,0.224,0.225]. Three values since there are three channels. Will perform z-transform.\n",
    "3. Convert image to tensor\n",
    "\n",
    "A better way to get the same transforms performed in the pretrained model is to use `torchvision.models` function. The trade-off of using this transforms is the lack of customisation."
   ]
  },
  {
   "cell_type": "code",
   "execution_count": 4,
   "id": "2a55016b-ab8b-43a5-8e17-c26f5524f26c",
   "metadata": {},
   "outputs": [],
   "source": [
    "from torchvision import transforms\n",
    "from torchvision.models import EfficientNet_B0_Weights # load an architecture"
   ]
  },
  {
   "cell_type": "code",
   "execution_count": 5,
   "id": "1e7bcb12-24b2-422f-8cc4-938a2507a2c0",
   "metadata": {},
   "outputs": [
    {
     "data": {
      "text/plain": [
       "ImageClassification(\n",
       "    crop_size=[224]\n",
       "    resize_size=[256]\n",
       "    mean=[0.485, 0.456, 0.406]\n",
       "    std=[0.229, 0.224, 0.225]\n",
       "    interpolation=InterpolationMode.BICUBIC\n",
       ")"
      ]
     },
     "execution_count": 5,
     "metadata": {},
     "output_type": "execute_result"
    }
   ],
   "source": [
    "# get pretrained weigths\n",
    "wts = EfficientNet_B0_Weights.DEFAULT # default : gives the best performance weights\n",
    "\n",
    "# get the transforms used\n",
    "transf_pretrained_model = wts.transforms()\n",
    "transf_pretrained_model"
   ]
  },
  {
   "cell_type": "code",
   "execution_count": 6,
   "id": "b1e7b608-6617-499e-86b5-c14b2f6de2f6",
   "metadata": {},
   "outputs": [
    {
     "data": {
      "text/plain": [
       "['pizza', 'steak', 'sushi']"
      ]
     },
     "execution_count": 6,
     "metadata": {},
     "output_type": "execute_result"
    }
   ],
   "source": [
    "# create dataset and dataloaders using pretrained transforms\n",
    "from turning_modular import data_setup\n",
    "\n",
    "train_dataloader, test_dataloader, class_names = data_setup.create_dataset_dataloader(train_dir=train_dir, test_dir=test_dir,\n",
    "                                                                                      transform=transf_pretrained_model, \n",
    "                                                                                      batch_size=32) # mini-batch of 32\n",
    "class_names"
   ]
  },
  {
   "cell_type": "markdown",
   "id": "ff891156-701e-4557-a37c-55aa64181751",
   "metadata": {},
   "source": [
    "# 3. Getting pretrained model\n",
    "As we saw in `04` and `05` notebooks that our model performance was relatively poor. That's why we are leveraging transfer learning. The better performing model may sometimes be `too big` on some devices. eg:mobile devices, therefore some trade-off needs to be there.\n",
    "\n",
    "Therefore, there will always be a,\n",
    "**performance vs speed vs size tradeoff**\n",
    "\n",
    "`EfficientNet_B0_Weights` is the model we are going to be using in our case. Other model performance can be checked by experimentation."
   ]
  },
  {
   "cell_type": "code",
   "execution_count": 29,
   "id": "3c29fc52-0a5b-42aa-b7c5-c55cbc5ffbaa",
   "metadata": {},
   "outputs": [],
   "source": [
    "wts = EfficientNet_B0_Weights.DEFAULT # default : gives the best performance weights\n",
    "\n",
    "# sending the weights to the model\n",
    "model = torchvision.models.efficientnet_b0(weights=wts).to(device)"
   ]
  },
  {
   "cell_type": "markdown",
   "id": "bc19fb77-6d8c-4b70-a116-db6fd244c062",
   "metadata": {},
   "source": [
    "# 4. Freezing base mode and changing the output layer\n",
    "\n",
    "Since the output layer is problem specific, it needs to be altered. This is done by `freezing base layers` and then `adjust output layers` (also called head/classifier layer) to suit our need.\n",
    "\n",
    "The model above comes with `1000` output classes since there are 1000 classes in imageNet. For our classification,we need only `3` output classes.\n",
    "\n",
    "1. Freeze all the layers (set it to untrainable) - set `requirees_grad` to `False`"
   ]
  },
  {
   "cell_type": "code",
   "execution_count": 30,
   "id": "67c36870-e80d-436a-bb37-c2b5f57c274b",
   "metadata": {
    "scrolled": true
   },
   "outputs": [],
   "source": [
    "# freeze all the parameters except classifier layer\n",
    "for param in model.features.parameters(): # get parameters of each layer\n",
    "    param.requires_grad = False"
   ]
  },
  {
   "cell_type": "code",
   "execution_count": 31,
   "id": "0be329c3-577b-4ebd-915d-ca3855914928",
   "metadata": {},
   "outputs": [],
   "source": [
    "# change the output layer (classifier layer)\n",
    "torch.manual_seed(42)\n",
    "\n",
    "# out classes size\n",
    "n_out_classes = len(class_names)\n",
    "\n",
    "from torch import nn\n",
    "# create the classifier layer\n",
    "model.classifier = nn.Sequential(nn.Dropout(p=0.2, inplace=True), # keep the dropout as was in original classifier layer\n",
    "                                 nn.Linear(in_features=1280,\n",
    "                                           out_features=n_out_classes,\n",
    "                                           bias=True)).to(device)"
   ]
  },
  {
   "cell_type": "markdown",
   "id": "6255bcf4-faba-4ea8-9b72-57fac7db6056",
   "metadata": {
    "scrolled": true
   },
   "source": [
    "# 5. Training and tracking\n",
    "Previously we were tracking the experiment results using `dictionaries`, so now we need to tune our `train()` function inorder to use `torch.utils.tensorboard.SummaryWriter()` which saves various parts of our model's training progress to file (log). This is saved in `tensorBoard format`."
   ]
  },
  {
   "cell_type": "code",
   "execution_count": 10,
   "id": "a2765de1-0787-49ed-9d1d-83f5a86310e9",
   "metadata": {},
   "outputs": [],
   "source": [
    "# create loss functio nadn optimiser\n",
    "loss_fn = nn.CrossEntropyLoss()\n",
    "optim = torch.optim.Adam(model.parameters(), lr=0.001)"
   ]
  },
  {
   "cell_type": "code",
   "execution_count": 11,
   "id": "162a36fb-2822-4eda-a137-1e0c0a9bd1e9",
   "metadata": {},
   "outputs": [],
   "source": [
    "from torch.utils.tensorboard import SummaryWriter"
   ]
  },
  {
   "cell_type": "code",
   "execution_count": 12,
   "id": "02ff710d-0c20-43ae-99c5-faa39aa0aeea",
   "metadata": {},
   "outputs": [],
   "source": [
    "# create a writer instance with default settings\n",
    "writer = SummaryWriter()"
   ]
  },
  {
   "cell_type": "markdown",
   "id": "db993526-fc34-4b14-9a57-46a7aa3f8088",
   "metadata": {},
   "source": [
    "### a. modify train() function"
   ]
  },
  {
   "cell_type": "code",
   "execution_count": 13,
   "id": "68091152-5197-4dca-8b81-f398a10d696c",
   "metadata": {},
   "outputs": [],
   "source": [
    "from turning_modular.engine import train_step, test_step\n",
    "from tqdm import tqdm\n",
    "\n",
    "def train(model: torch.nn.Module,\n",
    "          train_dataloader: torch.utils.data.DataLoader,\n",
    "          test_dataloader: torch.utils.data.DataLoader,\n",
    "          loss_fn : torch.float32,\n",
    "          optimizer: torch.optim.Optimizer,\n",
    "          epochs:int, device:torch.device,\n",
    "         writer: torch.utils.tensorboard.writer.SummaryWriter):\n",
    "\n",
    "    '''Trains and tests model for given number of epochs\n",
    "    \n",
    "    Args:\n",
    "        model: pytorch model to be trained and tested\n",
    "        train_data_loader: training dataloader instance of data\n",
    "        test_data_loader: testing dataloader instance of data\n",
    "        loss_fn    : lost function to be minimised\n",
    "        optimizer  : optmizer to minimize the loss function\n",
    "        epochs     : number of times a data is to be used for training\n",
    "        device     : cpu (or) cuda\n",
    "        writer     \" SummaryWriter() instance to log model results\n",
    "\n",
    "    returns:\n",
    "        dictionary of training and testing loss and accuracy'''\n",
    "\n",
    "    results = {\"train_loss\": [], \"train_acc\": [],\n",
    "               \"test_loss\": [], \"test_acc\": []}  \n",
    "\n",
    "    for epoch in tqdm(range(epochs)):\n",
    "        train_loss, train_acc = train_step(model=model, train_dataloader=train_dataloader,\n",
    "                                         loss_fn=loss_fn, optim=optimizer,\n",
    "                                         device=device)\n",
    "        test_loss, test_acc = test_step(model=model, test_dataloader=test_dataloader,\n",
    "                                      loss_fn=loss_fn, device=device)\n",
    "\n",
    "        print(f\"Model: {model.__class__.__name__} | train loss: {train_loss:.4f} | Train acc: {train_acc:.4f}%\")\n",
    "\n",
    "        print(f\"Model: {model.__class__.__name__} | Test loss: {test_loss:.4f}, test accuracy: {test_acc}% \\n\")\n",
    "\n",
    "        results[\"train_loss\"].append(train_loss)\n",
    "        results[\"train_acc\"].append(train_acc)\n",
    "        results[\"test_loss\"].append(test_loss)\n",
    "        results[\"test_acc\"].append(test_acc)\n",
    "\n",
    "        # experiment tracking\n",
    "        if writer:\n",
    "            # add train and test loss results to summaryWriter\n",
    "            writer.add_scalars(main_tag = \"Loss\",\n",
    "                              tag_scalar_dict={\"train_loss\": train_loss, \n",
    "                                               \"test_loss\": test_loss}, \n",
    "                              global_step=epoch)\n",
    "    \n",
    "            # add accuracy results to summaryWriter\n",
    "            writer.add_scalars(main_tag = \"Accuracy\",\n",
    "                              tag_scalar_dict={\"train_acc\": train_acc, \n",
    "                                               \"test_acc\": test_acc}, \n",
    "                              global_step=epoch)\n",
    "    \n",
    "            # Track pytTorch architecture\n",
    "            writer.add_graph(model=model, \n",
    "                             # Pass in an example input\n",
    "                             input_to_model=torch.randn(32, 3, 224, 224).to(device))\n",
    "        \n",
    "            # close the writer\n",
    "            writer.close()\n",
    "\n",
    "        else:\n",
    "            pass\n",
    "\n",
    "    return results"
   ]
  },
  {
   "cell_type": "code",
   "execution_count": 14,
   "id": "9713c0ab-e45c-4474-b03f-332848624aa8",
   "metadata": {},
   "outputs": [],
   "source": [
    "# train and track the experiment\n",
    "torch.manual_seed(42)\n",
    "\n",
    "results = train(model=model,\n",
    "                train_dataloader=train_dataloader,\n",
    "                test_dataloader=test_dataloader,\n",
    "                optimizer=optim,\n",
    "                loss_fn=loss_fn,\n",
    "                epochs=5,\n",
    "                device=device)"
   ]
  },
  {
   "cell_type": "markdown",
   "id": "0328b096-6926-4d3c-96db-75e4ec69112e",
   "metadata": {},
   "source": [
    "Will produce results similar to `06 notebook` except here it creates `runs/` directory which stores out model results. Lets visualise the results using tensorBoard"
   ]
  },
  {
   "cell_type": "code",
   "execution_count": 15,
   "id": "019254af-c00c-4cd7-a7a2-802b976468f5",
   "metadata": {},
   "outputs": [
    {
     "data": {
      "text/plain": [
       "ERROR: Could not find `tensorboard`. Please ensure that your PATH\n",
       "contains an executable `tensorboard` program, or explicitly specify\n",
       "the path to a TensorBoard binary by setting the `TENSORBOARD_BINARY`\n",
       "environment variable."
      ]
     },
     "metadata": {},
     "output_type": "display_data"
    }
   ],
   "source": [
    "%load_ext tensorboard\n",
    "%tensorboard --logdir ./runs"
   ]
  },
  {
   "cell_type": "markdown",
   "id": "3561cd76-aa76-4b11-90eb-628a2bdf0833",
   "metadata": {},
   "source": [
    "# 6. Create helper function to create a custom directory per experiment"
   ]
  },
  {
   "cell_type": "code",
   "execution_count": 16,
   "id": "5e2c62a5-b927-45ca-9912-c07dd3e4b396",
   "metadata": {},
   "outputs": [
    {
     "name": "stdout",
     "output_type": "stream",
     "text": [
      "Overwriting turning_modular/writer.py\n"
     ]
    }
   ],
   "source": [
    "%%writefile turning_modular/writer.py\n",
    "\n",
    "from torch.utils.tensorboard import SummaryWriter\n",
    "\n",
    "def create_writer(experiment_name: str, model_name: str, \n",
    "                  extra: str=None):\n",
    "    '''Creates a SummaryWriter() instance\n",
    "    Args:\n",
    "        experiment_name : Name of the experiment\n",
    "        model_name      : Name of the model\n",
    "        extra           : Anything extra if required to the directory\n",
    "\n",
    "    return:\n",
    "        Instance of SummaryWriter()\n",
    "    '''\n",
    "\n",
    "    from datetime import datetime\n",
    "    import os\n",
    "    \n",
    "    # time now\n",
    "    timestamp = datetime.now().strftime(\"%Y-%m-%d\")\n",
    "\n",
    "    if extra:\n",
    "        # Create log directory path\n",
    "        log_dir = os.path.join(\"runs\", timestamp, experiment_name, model_name, extra)\n",
    "    else:\n",
    "        log_dir = os.path.join(\"runs\", timestamp, experiment_name, model_name)\n",
    "\n",
    "    return SummaryWriter(log_dir=log_dir)"
   ]
  },
  {
   "cell_type": "markdown",
   "id": "98097020-c998-4c2d-8a87-fd46ce01b05f",
   "metadata": {},
   "source": [
    "# 7. Setting series of experiments\n",
    "\n",
    "We will instantiate series of experiments and inspects at once. The experiments involve,\n",
    "* Change number of epochs\n",
    "* Change number of layers\n",
    "* Change number of hidden units per layer\n",
    "* change learning rate\n",
    "* Different typr of data augmentation\n",
    "* Different model architecture\n",
    "\n",
    "An ideal model should give high accuracy but doesn't taken too long to train"
   ]
  },
  {
   "cell_type": "markdown",
   "id": "107e5ac9-e079-4275-bd74-5f667a5f79c1",
   "metadata": {},
   "source": [
    "In this notebook, we will perform,\n",
    "1. Different amount of data (10% of each vs 20% of each)\n",
    "2. torchvision.models.efficientnet_b0 vs torchvision.models.efficientnet_b2 (higher the number, deeper the layer).\n",
    "3. Different number of epochs (5 vs 10)\n",
    "\n",
    "Therefore, there will be 2X2X2 = 8 experiments"
   ]
  },
  {
   "cell_type": "markdown",
   "id": "7d4e7a49-46df-4032-9818-8a9b5317d3e9",
   "metadata": {},
   "source": [
    "### a. Download 10% and 20% dataset\n",
    "\n",
    "The 10% percent is the data that we have been using. Therefore, we download only the 20% data"
   ]
  },
  {
   "cell_type": "code",
   "execution_count": 17,
   "id": "2c89c1bc-37ac-4b0e-a8bc-7f9af713fe3f",
   "metadata": {},
   "outputs": [
    {
     "name": "stdout",
     "output_type": "stream",
     "text": [
      "Folder already exists, skipping download ...\n"
     ]
    }
   ],
   "source": [
    "# data path\n",
    "data_20_percent_path = Path(\"../Dataset/\")\n",
    "\n",
    "# image path\n",
    "img_path = data_20_percent_path / \"pizza_steak_sushi_20_percent\"\n",
    "\n",
    "if img_path.is_dir():\n",
    "    print(\"Folder already exists, skipping download ...\")\n",
    "else:\n",
    "    print(\"Folder doesn't exist, creating one ...\")\n",
    "    \n",
    "    # create image folder\n",
    "    img_path.mkdir(parents=True)\n",
    "\n",
    "    # download the data\n",
    "    with open(data_20_percent_path / \"pizza_steak_sushi_20_percent.zip\", \"wb\") as f:\n",
    "        request = requests.get(\"https://github.com/mrdbourke/pytorch-deep-learning/raw/main/data/pizza_steak_sushi_20_percent.zip\")\n",
    "        print(\"Downloading data ...\")\n",
    "\n",
    "        # write data\n",
    "        f.write(request.content)\n",
    "\n",
    "    # extract zip file\n",
    "    with zipfile.ZipFile(data_20_percent_path / \"pizza_steak_sushi_20_percent.zip\", \"r\") as f:\n",
    "        print(\"Unzipping the file ...\")\n",
    "\n",
    "        # extract file\n",
    "        f.extractall(img_path)\n",
    "\n",
    "    # delete zipfile\n",
    "    os.remove(data_20_percent_path / \"pizza_steak_sushi_20_percent.zip\")"
   ]
  },
  {
   "cell_type": "code",
   "execution_count": 18,
   "id": "8aa0bf38-c164-49f8-a263-6f76b9d73d05",
   "metadata": {},
   "outputs": [],
   "source": [
    "# Download 10 percent and 20 percent training data\n",
    "train_dir_20 = img_path / \"train\""
   ]
  },
  {
   "cell_type": "markdown",
   "id": "97308ffe-2eeb-4b60-801f-0cdfaf66f633",
   "metadata": {},
   "source": [
    "### b. Create dataloader for 20% data"
   ]
  },
  {
   "cell_type": "code",
   "execution_count": 19,
   "id": "e19cfa92-55d4-4e8c-9321-84a34c5b8b88",
   "metadata": {},
   "outputs": [
    {
     "name": "stdout",
     "output_type": "stream",
     "text": [
      "Number of batches in 10% dataset is 8\n",
      "Number of batches in 20% dataset is 15\n"
     ]
    }
   ],
   "source": [
    "# Create 20% training and test data DataLoders\n",
    "train_dataloader_20_percent, test_dataloader, class_names = data_setup.create_dataset_dataloader(train_dir=train_dir_20,\n",
    "    test_dir=test_dir,\n",
    "    transform=transf_pretrained_model,\n",
    "    batch_size=32\n",
    ")\n",
    "\n",
    "print(f\"Number of batches in 10% dataset is {len(train_dataloader)}\")\n",
    "print(f\"Number of batches in 20% dataset is {len(train_dataloader_20_percent)}\")"
   ]
  },
  {
   "cell_type": "markdown",
   "id": "0f1c0cac-339b-4fe5-af17-d70293fa9606",
   "metadata": {},
   "source": [
    "### c. Getting pretrained model torchvision.models.efficientnet_b2()"
   ]
  },
  {
   "cell_type": "code",
   "execution_count": 32,
   "id": "75b91cbb-b96c-4bd5-8e7c-b8afa9d0b11e",
   "metadata": {},
   "outputs": [],
   "source": [
    "# 1. Create an instance of EffNetB2 with pretrained weights\n",
    "model_b2_weights = torchvision.models.EfficientNet_B2_Weights.DEFAULT # \"DEFAULT\" means best available weights\n",
    "model_b2 = torchvision.models.efficientnet_b2(weights=model_b2_weights).to(device)\n",
    "\n",
    "# 2. Freeze the base model layers\n",
    "for param in model_b2.features.parameters():\n",
    "    param.requires_grad = False\n",
    "\n",
    "torch.manual_seed(42)\n",
    "\n",
    "# 3. Change classfier layer\n",
    "model_b2.classifier = nn.Sequential(nn.Dropout(p=0.2),\n",
    "                                 nn.Linear(in_features=1408, out_features=3)\n",
    "                                ).to(device)"
   ]
  },
  {
   "cell_type": "markdown",
   "id": "59b68f57-fd7a-441a-be31-bf545e026827",
   "metadata": {},
   "source": [
    "### d. create experiments"
   ]
  },
  {
   "cell_type": "code",
   "execution_count": 25,
   "id": "4a8d1da0-3e02-4046-9ef2-91205af256a0",
   "metadata": {},
   "outputs": [],
   "source": [
    "# number of epochs\n",
    "n_epochs = (5,10)\n",
    "\n",
    "# models\n",
    "models = (\"effnetb0\", \"effnetb2\")\n",
    "\n",
    "# dataloader dictionary\n",
    "train_dataloaders = {\"data_10_percent\": train_dataloader,\n",
    "                     \"data_20_percent\": train_dataloader_20_percent}"
   ]
  },
  {
   "cell_type": "markdown",
   "id": "446c3e70-1c7c-44ab-8f97-4a6ef78acdcf",
   "metadata": {},
   "source": [
    "### e.Training"
   ]
  },
  {
   "cell_type": "code",
   "execution_count": 26,
   "id": "6775f883-6ce7-439d-96d3-624cc9c5e56e",
   "metadata": {},
   "outputs": [
    {
     "name": "stdout",
     "output_type": "stream",
     "text": [
      "The autoreload extension is already loaded. To reload it, use:\n",
      "  %reload_ext autoreload\n"
     ]
    }
   ],
   "source": [
    "%load_ext autoreload\n",
    "%autoreload 2"
   ]
  },
  {
   "cell_type": "code",
   "execution_count": 33,
   "id": "b4aa787d-9d51-4ffa-be51-7bb88ac14790",
   "metadata": {
    "scrolled": true
   },
   "outputs": [
    {
     "name": "stdout",
     "output_type": "stream",
     "text": [
      "Experiment number: 1\n",
      "Model: effnetb0\n",
      "DataLoader: data_10_percent\n",
      "Number of epochs: 5\n"
     ]
    },
    {
     "name": "stderr",
     "output_type": "stream",
     "text": [
      "  0%|                                                                                            | 0/5 [00:00<?, ?it/s]"
     ]
    },
    {
     "name": "stdout",
     "output_type": "stream",
     "text": [
      "Model: EfficientNet | train loss: 1.0962 | Train acc: 39.0625%\n",
      "Model: EfficientNet | Test loss: 0.9144, test accuracy: 59.09090909090909% \n",
      "\n"
     ]
    },
    {
     "name": "stderr",
     "output_type": "stream",
     "text": [
      " 20%|████████████████▊                                                                   | 1/5 [00:25<01:41, 25.26s/it]"
     ]
    },
    {
     "name": "stdout",
     "output_type": "stream",
     "text": [
      "Model: EfficientNet | train loss: 0.9046 | Train acc: 64.4531%\n",
      "Model: EfficientNet | Test loss: 0.7883, test accuracy: 82.57575757575758% \n",
      "\n"
     ]
    },
    {
     "name": "stderr",
     "output_type": "stream",
     "text": [
      " 40%|█████████████████████████████████▌                                                  | 2/5 [00:49<01:14, 24.69s/it]"
     ]
    },
    {
     "name": "stdout",
     "output_type": "stream",
     "text": [
      "Model: EfficientNet | train loss: 0.8096 | Train acc: 73.4375%\n",
      "Model: EfficientNet | Test loss: 0.6768, test accuracy: 88.63636363636363% \n",
      "\n"
     ]
    },
    {
     "name": "stderr",
     "output_type": "stream",
     "text": [
      " 60%|██████████████████████████████████████████████████▍                                 | 3/5 [01:12<00:47, 23.87s/it]"
     ]
    },
    {
     "name": "stdout",
     "output_type": "stream",
     "text": [
      "Model: EfficientNet | train loss: 0.6849 | Train acc: 86.3281%\n",
      "Model: EfficientNet | Test loss: 0.6739, test accuracy: 80.49242424242425% \n",
      "\n"
     ]
    },
    {
     "name": "stderr",
     "output_type": "stream",
     "text": [
      " 80%|███████████████████████████████████████████████████████████████████▏                | 4/5 [01:33<00:22, 22.84s/it]"
     ]
    },
    {
     "name": "stdout",
     "output_type": "stream",
     "text": [
      "Model: EfficientNet | train loss: 0.7080 | Train acc: 72.6562%\n",
      "Model: EfficientNet | Test loss: 0.6793, test accuracy: 77.36742424242425% \n",
      "\n"
     ]
    },
    {
     "name": "stderr",
     "output_type": "stream",
     "text": [
      "100%|████████████████████████████████████████████████████████████████████████████████████| 5/5 [01:55<00:00, 23.05s/it]\n"
     ]
    },
    {
     "name": "stdout",
     "output_type": "stream",
     "text": [
      "Saving model ...\n",
      "--------------------------------------------------\n",
      "\n",
      "Experiment number: 2\n",
      "Model: effnetb2\n",
      "DataLoader: data_10_percent\n",
      "Number of epochs: 5\n"
     ]
    },
    {
     "name": "stderr",
     "output_type": "stream",
     "text": [
      "  0%|                                                                                            | 0/5 [00:00<?, ?it/s]"
     ]
    },
    {
     "name": "stdout",
     "output_type": "stream",
     "text": [
      "Model: EfficientNet | train loss: 1.1274 | Train acc: 23.8281%\n",
      "Model: EfficientNet | Test loss: 1.0754, test accuracy: 39.01515151515151% \n",
      "\n"
     ]
    },
    {
     "name": "stderr",
     "output_type": "stream",
     "text": [
      " 20%|████████████████▊                                                                   | 1/5 [00:22<01:31, 22.76s/it]"
     ]
    },
    {
     "name": "stdout",
     "output_type": "stream",
     "text": [
      "Model: EfficientNet | train loss: 1.1218 | Train acc: 24.2188%\n",
      "Model: EfficientNet | Test loss: 1.0703, test accuracy: 46.21212121212121% \n",
      "\n"
     ]
    },
    {
     "name": "stderr",
     "output_type": "stream",
     "text": [
      " 40%|█████████████████████████████████▌                                                  | 2/5 [00:48<01:13, 24.46s/it]"
     ]
    },
    {
     "name": "stdout",
     "output_type": "stream",
     "text": [
      "Model: EfficientNet | train loss: 1.1134 | Train acc: 31.6406%\n",
      "Model: EfficientNet | Test loss: 1.0819, test accuracy: 35.03787878787879% \n",
      "\n"
     ]
    },
    {
     "name": "stderr",
     "output_type": "stream",
     "text": [
      " 60%|██████████████████████████████████████████████████▍                                 | 3/5 [01:14<00:50, 25.25s/it]"
     ]
    },
    {
     "name": "stdout",
     "output_type": "stream",
     "text": [
      "Model: EfficientNet | train loss: 1.1065 | Train acc: 39.8438%\n",
      "Model: EfficientNet | Test loss: 1.0812, test accuracy: 38.06818181818182% \n",
      "\n"
     ]
    },
    {
     "name": "stderr",
     "output_type": "stream",
     "text": [
      " 80%|███████████████████████████████████████████████████████████████████▏                | 4/5 [01:36<00:23, 24.00s/it]"
     ]
    },
    {
     "name": "stdout",
     "output_type": "stream",
     "text": [
      "Model: EfficientNet | train loss: 1.0973 | Train acc: 39.4531%\n",
      "Model: EfficientNet | Test loss: 1.0897, test accuracy: 34.090909090909086% \n",
      "\n"
     ]
    },
    {
     "name": "stderr",
     "output_type": "stream",
     "text": [
      "100%|████████████████████████████████████████████████████████████████████████████████████| 5/5 [02:00<00:00, 24.13s/it]\n"
     ]
    },
    {
     "name": "stdout",
     "output_type": "stream",
     "text": [
      "Saving model ...\n",
      "--------------------------------------------------\n",
      "\n",
      "Experiment number: 3\n",
      "Model: effnetb0\n",
      "DataLoader: data_10_percent\n",
      "Number of epochs: 10\n"
     ]
    },
    {
     "name": "stderr",
     "output_type": "stream",
     "text": [
      "  0%|                                                                                           | 0/10 [00:00<?, ?it/s]"
     ]
    },
    {
     "name": "stdout",
     "output_type": "stream",
     "text": [
      "Model: EfficientNet | train loss: 0.6168 | Train acc: 76.1719%\n",
      "Model: EfficientNet | Test loss: 0.5255, test accuracy: 88.63636363636363% \n",
      "\n"
     ]
    },
    {
     "name": "stderr",
     "output_type": "stream",
     "text": [
      " 10%|████████▎                                                                          | 1/10 [00:24<03:40, 24.46s/it]"
     ]
    },
    {
     "name": "stdout",
     "output_type": "stream",
     "text": [
      "Model: EfficientNet | train loss: 0.5435 | Train acc: 80.4688%\n",
      "Model: EfficientNet | Test loss: 0.5363, test accuracy: 88.63636363636363% \n",
      "\n"
     ]
    },
    {
     "name": "stderr",
     "output_type": "stream",
     "text": [
      " 20%|████████████████▌                                                                  | 2/10 [00:45<03:00, 22.56s/it]"
     ]
    },
    {
     "name": "stdout",
     "output_type": "stream",
     "text": [
      "Model: EfficientNet | train loss: 0.4864 | Train acc: 80.8594%\n",
      "Model: EfficientNet | Test loss: 0.4592, test accuracy: 88.63636363636363% \n",
      "\n"
     ]
    },
    {
     "name": "stderr",
     "output_type": "stream",
     "text": [
      " 30%|████████████████████████▉                                                          | 3/10 [01:06<02:33, 21.89s/it]"
     ]
    },
    {
     "name": "stdout",
     "output_type": "stream",
     "text": [
      "Model: EfficientNet | train loss: 0.5508 | Train acc: 78.9062%\n",
      "Model: EfficientNet | Test loss: 0.4411, test accuracy: 87.59469696969695% \n",
      "\n"
     ]
    },
    {
     "name": "stderr",
     "output_type": "stream",
     "text": [
      " 40%|█████████████████████████████████▏                                                 | 4/10 [01:28<02:11, 21.94s/it]"
     ]
    },
    {
     "name": "stdout",
     "output_type": "stream",
     "text": [
      "Model: EfficientNet | train loss: 0.4781 | Train acc: 81.2500%\n",
      "Model: EfficientNet | Test loss: 0.4500, test accuracy: 87.59469696969695% \n",
      "\n"
     ]
    },
    {
     "name": "stderr",
     "output_type": "stream",
     "text": [
      " 50%|█████████████████████████████████████████▌                                         | 5/10 [01:50<01:48, 21.73s/it]"
     ]
    },
    {
     "name": "stdout",
     "output_type": "stream",
     "text": [
      "Model: EfficientNet | train loss: 0.4200 | Train acc: 82.0312%\n",
      "Model: EfficientNet | Test loss: 0.4795, test accuracy: 84.56439393939394% \n",
      "\n"
     ]
    },
    {
     "name": "stderr",
     "output_type": "stream",
     "text": [
      " 60%|█████████████████████████████████████████████████▊                                 | 6/10 [02:11<01:26, 21.53s/it]"
     ]
    },
    {
     "name": "stdout",
     "output_type": "stream",
     "text": [
      "Model: EfficientNet | train loss: 0.4429 | Train acc: 82.4219%\n",
      "Model: EfficientNet | Test loss: 0.5236, test accuracy: 83.61742424242425% \n",
      "\n"
     ]
    },
    {
     "name": "stderr",
     "output_type": "stream",
     "text": [
      " 70%|██████████████████████████████████████████████████████████                         | 7/10 [02:31<01:03, 21.24s/it]"
     ]
    },
    {
     "name": "stdout",
     "output_type": "stream",
     "text": [
      "Model: EfficientNet | train loss: 0.5032 | Train acc: 78.1250%\n",
      "Model: EfficientNet | Test loss: 0.4865, test accuracy: 84.56439393939394% \n",
      "\n"
     ]
    },
    {
     "name": "stderr",
     "output_type": "stream",
     "text": [
      " 80%|██████████████████████████████████████████████████████████████████▍                | 8/10 [02:53<00:42, 21.47s/it]"
     ]
    },
    {
     "name": "stdout",
     "output_type": "stream",
     "text": [
      "Model: EfficientNet | train loss: 0.3773 | Train acc: 82.8125%\n",
      "Model: EfficientNet | Test loss: 0.4102, test accuracy: 86.64772727272727% \n",
      "\n"
     ]
    },
    {
     "name": "stderr",
     "output_type": "stream",
     "text": [
      " 90%|██████████████████████████████████████████████████████████████████████████▋        | 9/10 [03:15<00:21, 21.43s/it]"
     ]
    },
    {
     "name": "stdout",
     "output_type": "stream",
     "text": [
      "Model: EfficientNet | train loss: 0.3515 | Train acc: 83.2031%\n",
      "Model: EfficientNet | Test loss: 0.3858, test accuracy: 87.68939393939394% \n",
      "\n"
     ]
    },
    {
     "name": "stderr",
     "output_type": "stream",
     "text": [
      "100%|██████████████████████████████████████████████████████████████████████████████████| 10/10 [03:36<00:00, 21.66s/it]\n"
     ]
    },
    {
     "name": "stdout",
     "output_type": "stream",
     "text": [
      "Saving model ...\n",
      "--------------------------------------------------\n",
      "\n",
      "Experiment number: 4\n",
      "Model: effnetb2\n",
      "DataLoader: data_10_percent\n",
      "Number of epochs: 10\n"
     ]
    },
    {
     "name": "stderr",
     "output_type": "stream",
     "text": [
      "  0%|                                                                                           | 0/10 [00:00<?, ?it/s]"
     ]
    },
    {
     "name": "stdout",
     "output_type": "stream",
     "text": [
      "Model: EfficientNet | train loss: 1.1083 | Train acc: 39.8438%\n",
      "Model: EfficientNet | Test loss: 1.0984, test accuracy: 35.13257575757576% \n",
      "\n"
     ]
    },
    {
     "name": "stderr",
     "output_type": "stream",
     "text": [
      " 10%|████████▎                                                                          | 1/10 [00:21<03:15, 21.70s/it]"
     ]
    },
    {
     "name": "stdout",
     "output_type": "stream",
     "text": [
      "Model: EfficientNet | train loss: 1.1274 | Train acc: 28.1250%\n",
      "Model: EfficientNet | Test loss: 1.0954, test accuracy: 30.018939393939394% \n",
      "\n"
     ]
    },
    {
     "name": "stderr",
     "output_type": "stream",
     "text": [
      " 20%|████████████████▌                                                                  | 2/10 [00:43<02:55, 21.89s/it]"
     ]
    },
    {
     "name": "stdout",
     "output_type": "stream",
     "text": [
      "Model: EfficientNet | train loss: 1.1025 | Train acc: 30.0781%\n",
      "Model: EfficientNet | Test loss: 1.0997, test accuracy: 35.13257575757576% \n",
      "\n"
     ]
    },
    {
     "name": "stderr",
     "output_type": "stream",
     "text": [
      " 30%|████████████████████████▉                                                          | 3/10 [01:07<02:38, 22.66s/it]"
     ]
    },
    {
     "name": "stdout",
     "output_type": "stream",
     "text": [
      "Model: EfficientNet | train loss: 1.1292 | Train acc: 25.3906%\n",
      "Model: EfficientNet | Test loss: 1.1057, test accuracy: 30.018939393939394% \n",
      "\n"
     ]
    },
    {
     "name": "stderr",
     "output_type": "stream",
     "text": [
      " 40%|█████████████████████████████████▏                                                 | 4/10 [01:29<02:14, 22.44s/it]"
     ]
    },
    {
     "name": "stdout",
     "output_type": "stream",
     "text": [
      "Model: EfficientNet | train loss: 1.1079 | Train acc: 26.9531%\n",
      "Model: EfficientNet | Test loss: 1.1144, test accuracy: 23.863636363636363% \n",
      "\n"
     ]
    },
    {
     "name": "stderr",
     "output_type": "stream",
     "text": [
      " 50%|█████████████████████████████████████████▌                                         | 5/10 [01:51<01:51, 22.24s/it]"
     ]
    },
    {
     "name": "stdout",
     "output_type": "stream",
     "text": [
      "Model: EfficientNet | train loss: 1.1209 | Train acc: 26.9531%\n",
      "Model: EfficientNet | Test loss: 1.0949, test accuracy: 39.20454545454546% \n",
      "\n"
     ]
    },
    {
     "name": "stderr",
     "output_type": "stream",
     "text": [
      " 60%|█████████████████████████████████████████████████▊                                 | 6/10 [02:12<01:27, 21.90s/it]"
     ]
    },
    {
     "name": "stdout",
     "output_type": "stream",
     "text": [
      "Model: EfficientNet | train loss: 1.1319 | Train acc: 28.1250%\n",
      "Model: EfficientNet | Test loss: 1.0973, test accuracy: 30.018939393939394% \n",
      "\n"
     ]
    },
    {
     "name": "stderr",
     "output_type": "stream",
     "text": [
      " 70%|██████████████████████████████████████████████████████████                         | 7/10 [02:33<01:04, 21.61s/it]"
     ]
    },
    {
     "name": "stdout",
     "output_type": "stream",
     "text": [
      "Model: EfficientNet | train loss: 1.1020 | Train acc: 41.7969%\n",
      "Model: EfficientNet | Test loss: 1.0875, test accuracy: 32.10227272727273% \n",
      "\n"
     ]
    },
    {
     "name": "stderr",
     "output_type": "stream",
     "text": [
      " 80%|██████████████████████████████████████████████████████████████████▍                | 8/10 [02:55<00:43, 21.66s/it]"
     ]
    },
    {
     "name": "stdout",
     "output_type": "stream",
     "text": [
      "Model: EfficientNet | train loss: 1.1578 | Train acc: 24.2188%\n",
      "Model: EfficientNet | Test loss: 1.0921, test accuracy: 35.13257575757576% \n",
      "\n"
     ]
    },
    {
     "name": "stderr",
     "output_type": "stream",
     "text": [
      " 90%|██████████████████████████████████████████████████████████████████████████▋        | 9/10 [03:16<00:21, 21.58s/it]"
     ]
    },
    {
     "name": "stdout",
     "output_type": "stream",
     "text": [
      "Model: EfficientNet | train loss: 1.1213 | Train acc: 25.3906%\n",
      "Model: EfficientNet | Test loss: 1.0964, test accuracy: 26.041666666666668% \n",
      "\n"
     ]
    },
    {
     "name": "stderr",
     "output_type": "stream",
     "text": [
      "100%|██████████████████████████████████████████████████████████████████████████████████| 10/10 [03:38<00:00, 21.80s/it]\n"
     ]
    },
    {
     "name": "stdout",
     "output_type": "stream",
     "text": [
      "Saving model ...\n",
      "--------------------------------------------------\n",
      "\n",
      "Experiment number: 5\n",
      "Model: effnetb0\n",
      "DataLoader: data_20_percent\n",
      "Number of epochs: 5\n"
     ]
    },
    {
     "name": "stderr",
     "output_type": "stream",
     "text": [
      "  0%|                                                                                            | 0/5 [00:00<?, ?it/s]"
     ]
    },
    {
     "name": "stdout",
     "output_type": "stream",
     "text": [
      "Model: EfficientNet | train loss: 0.3899 | Train acc: 85.8333%\n",
      "Model: EfficientNet | Test loss: 0.3494, test accuracy: 87.68939393939394% \n",
      "\n"
     ]
    },
    {
     "name": "stderr",
     "output_type": "stream",
     "text": [
      " 20%|████████████████▊                                                                   | 1/5 [00:21<01:26, 21.73s/it]"
     ]
    },
    {
     "name": "stdout",
     "output_type": "stream",
     "text": [
      "Model: EfficientNet | train loss: 0.4165 | Train acc: 85.0000%\n",
      "Model: EfficientNet | Test loss: 0.3151, test accuracy: 87.68939393939394% \n",
      "\n"
     ]
    },
    {
     "name": "stderr",
     "output_type": "stream",
     "text": [
      " 40%|█████████████████████████████████▌                                                  | 2/5 [00:44<01:06, 22.10s/it]"
     ]
    },
    {
     "name": "stdout",
     "output_type": "stream",
     "text": [
      "Model: EfficientNet | train loss: 0.3216 | Train acc: 90.8333%\n",
      "Model: EfficientNet | Test loss: 0.3313, test accuracy: 89.77272727272727% \n",
      "\n"
     ]
    },
    {
     "name": "stderr",
     "output_type": "stream",
     "text": [
      " 60%|██████████████████████████████████████████████████▍                                 | 3/5 [01:05<00:43, 21.85s/it]"
     ]
    },
    {
     "name": "stdout",
     "output_type": "stream",
     "text": [
      "Model: EfficientNet | train loss: 0.3246 | Train acc: 91.6667%\n",
      "Model: EfficientNet | Test loss: 0.2861, test accuracy: 91.76136363636363% \n",
      "\n"
     ]
    },
    {
     "name": "stderr",
     "output_type": "stream",
     "text": [
      " 80%|███████████████████████████████████████████████████████████████████▏                | 4/5 [01:27<00:21, 21.91s/it]"
     ]
    },
    {
     "name": "stdout",
     "output_type": "stream",
     "text": [
      "Model: EfficientNet | train loss: 0.2835 | Train acc: 92.0833%\n",
      "Model: EfficientNet | Test loss: 0.2989, test accuracy: 91.76136363636363% \n",
      "\n"
     ]
    },
    {
     "name": "stderr",
     "output_type": "stream",
     "text": [
      "100%|████████████████████████████████████████████████████████████████████████████████████| 5/5 [01:49<00:00, 21.86s/it]\n"
     ]
    },
    {
     "name": "stdout",
     "output_type": "stream",
     "text": [
      "Saving model ...\n",
      "--------------------------------------------------\n",
      "\n",
      "Experiment number: 6\n",
      "Model: effnetb2\n",
      "DataLoader: data_20_percent\n",
      "Number of epochs: 5\n"
     ]
    },
    {
     "name": "stderr",
     "output_type": "stream",
     "text": [
      "  0%|                                                                                            | 0/5 [00:00<?, ?it/s]"
     ]
    },
    {
     "name": "stdout",
     "output_type": "stream",
     "text": [
      "Model: EfficientNet | train loss: 1.1246 | Train acc: 32.5000%\n",
      "Model: EfficientNet | Test loss: 1.0854, test accuracy: 39.20454545454546% \n",
      "\n"
     ]
    },
    {
     "name": "stderr",
     "output_type": "stream",
     "text": [
      " 20%|████████████████▊                                                                   | 1/5 [00:32<02:09, 32.32s/it]\n"
     ]
    },
    {
     "ename": "KeyboardInterrupt",
     "evalue": "",
     "output_type": "error",
     "traceback": [
      "\u001b[1;31m---------------------------------------------------------------------------\u001b[0m",
      "\u001b[1;31mKeyboardInterrupt\u001b[0m                         Traceback (most recent call last)",
      "File \u001b[1;32m<timed exec>:35\u001b[0m\n",
      "Cell \u001b[1;32mIn[13], line 34\u001b[0m, in \u001b[0;36mtrain\u001b[1;34m(model, train_dataloader, test_dataloader, loss_fn, optimizer, epochs, device, writer)\u001b[0m\n\u001b[0;32m     30\u001b[0m \u001b[38;5;28;01mfor\u001b[39;00m epoch \u001b[38;5;129;01min\u001b[39;00m tqdm(\u001b[38;5;28mrange\u001b[39m(epochs)):\n\u001b[0;32m     31\u001b[0m     train_loss, train_acc \u001b[38;5;241m=\u001b[39m train_step(model\u001b[38;5;241m=\u001b[39mmodel, train_dataloader\u001b[38;5;241m=\u001b[39mtrain_dataloader,\n\u001b[0;32m     32\u001b[0m                                      loss_fn\u001b[38;5;241m=\u001b[39mloss_fn, optim\u001b[38;5;241m=\u001b[39moptimizer,\n\u001b[0;32m     33\u001b[0m                                      device\u001b[38;5;241m=\u001b[39mdevice)\n\u001b[1;32m---> 34\u001b[0m     test_loss, test_acc \u001b[38;5;241m=\u001b[39m \u001b[43mtest_step\u001b[49m\u001b[43m(\u001b[49m\u001b[43mmodel\u001b[49m\u001b[38;5;241;43m=\u001b[39;49m\u001b[43mmodel\u001b[49m\u001b[43m,\u001b[49m\u001b[43m \u001b[49m\u001b[43mtest_dataloader\u001b[49m\u001b[38;5;241;43m=\u001b[39;49m\u001b[43mtest_dataloader\u001b[49m\u001b[43m,\u001b[49m\n\u001b[0;32m     35\u001b[0m \u001b[43m                                  \u001b[49m\u001b[43mloss_fn\u001b[49m\u001b[38;5;241;43m=\u001b[39;49m\u001b[43mloss_fn\u001b[49m\u001b[43m,\u001b[49m\u001b[43m \u001b[49m\u001b[43mdevice\u001b[49m\u001b[38;5;241;43m=\u001b[39;49m\u001b[43mdevice\u001b[49m\u001b[43m)\u001b[49m\n\u001b[0;32m     37\u001b[0m     \u001b[38;5;28mprint\u001b[39m(\u001b[38;5;124mf\u001b[39m\u001b[38;5;124m\"\u001b[39m\u001b[38;5;124mModel: \u001b[39m\u001b[38;5;132;01m{\u001b[39;00mmodel\u001b[38;5;241m.\u001b[39m\u001b[38;5;18m__class__\u001b[39m\u001b[38;5;241m.\u001b[39m\u001b[38;5;18m__name__\u001b[39m\u001b[38;5;132;01m}\u001b[39;00m\u001b[38;5;124m | train loss: \u001b[39m\u001b[38;5;132;01m{\u001b[39;00mtrain_loss\u001b[38;5;132;01m:\u001b[39;00m\u001b[38;5;124m.4f\u001b[39m\u001b[38;5;132;01m}\u001b[39;00m\u001b[38;5;124m | Train acc: \u001b[39m\u001b[38;5;132;01m{\u001b[39;00mtrain_acc\u001b[38;5;132;01m:\u001b[39;00m\u001b[38;5;124m.4f\u001b[39m\u001b[38;5;132;01m}\u001b[39;00m\u001b[38;5;124m%\u001b[39m\u001b[38;5;124m\"\u001b[39m)\n\u001b[0;32m     39\u001b[0m     \u001b[38;5;28mprint\u001b[39m(\u001b[38;5;124mf\u001b[39m\u001b[38;5;124m\"\u001b[39m\u001b[38;5;124mModel: \u001b[39m\u001b[38;5;132;01m{\u001b[39;00mmodel\u001b[38;5;241m.\u001b[39m\u001b[38;5;18m__class__\u001b[39m\u001b[38;5;241m.\u001b[39m\u001b[38;5;18m__name__\u001b[39m\u001b[38;5;132;01m}\u001b[39;00m\u001b[38;5;124m | Test loss: \u001b[39m\u001b[38;5;132;01m{\u001b[39;00mtest_loss\u001b[38;5;132;01m:\u001b[39;00m\u001b[38;5;124m.4f\u001b[39m\u001b[38;5;132;01m}\u001b[39;00m\u001b[38;5;124m, test accuracy: \u001b[39m\u001b[38;5;132;01m{\u001b[39;00mtest_acc\u001b[38;5;132;01m}\u001b[39;00m\u001b[38;5;124m% \u001b[39m\u001b[38;5;130;01m\\n\u001b[39;00m\u001b[38;5;124m\"\u001b[39m)\n",
      "File \u001b[1;32m~\\Downloads\\pandas\\ML\\ML_top_down\\pytorch_tutorial\\turning_modular\\engine.py:87\u001b[0m, in \u001b[0;36mtest_step\u001b[1;34m(model, test_dataloader, loss_fn, device)\u001b[0m\n\u001b[0;32m     84\u001b[0m model\u001b[38;5;241m.\u001b[39meval()\n\u001b[0;32m     86\u001b[0m \u001b[38;5;28;01mwith\u001b[39;00m torch\u001b[38;5;241m.\u001b[39minference_mode():\n\u001b[1;32m---> 87\u001b[0m \u001b[43m    \u001b[49m\u001b[38;5;28;43;01mfor\u001b[39;49;00m\u001b[43m \u001b[49m\u001b[43mX\u001b[49m\u001b[43m,\u001b[49m\u001b[43m \u001b[49m\u001b[43my\u001b[49m\u001b[43m \u001b[49m\u001b[38;5;129;43;01min\u001b[39;49;00m\u001b[43m \u001b[49m\u001b[43mtest_dataloader\u001b[49m\u001b[43m:\u001b[49m\n\u001b[0;32m     88\u001b[0m \n\u001b[0;32m     89\u001b[0m \u001b[43m        \u001b[49m\u001b[38;5;66;43;03m# data on target device\u001b[39;49;00m\n\u001b[0;32m     90\u001b[0m \u001b[43m        \u001b[49m\u001b[43mX\u001b[49m\u001b[43m,\u001b[49m\u001b[43m \u001b[49m\u001b[43my\u001b[49m\u001b[43m \u001b[49m\u001b[38;5;241;43m=\u001b[39;49m\u001b[43m \u001b[49m\u001b[43mX\u001b[49m\u001b[38;5;241;43m.\u001b[39;49m\u001b[43mto\u001b[49m\u001b[43m(\u001b[49m\u001b[43mdevice\u001b[49m\u001b[43m)\u001b[49m\u001b[43m,\u001b[49m\u001b[43m \u001b[49m\u001b[43my\u001b[49m\u001b[38;5;241;43m.\u001b[39;49m\u001b[43mto\u001b[49m\u001b[43m(\u001b[49m\u001b[43mdevice\u001b[49m\u001b[43m)\u001b[49m\n\u001b[0;32m     92\u001b[0m \u001b[43m        \u001b[49m\u001b[38;5;66;43;03m# 1. forward pass\u001b[39;49;00m\n",
      "File \u001b[1;32mC:\\ProgramData\\miniconda3\\envs\\gpu\\Lib\\site-packages\\torch\\utils\\data\\dataloader.py:440\u001b[0m, in \u001b[0;36mDataLoader.__iter__\u001b[1;34m(self)\u001b[0m\n\u001b[0;32m    438\u001b[0m     \u001b[38;5;28;01mreturn\u001b[39;00m \u001b[38;5;28mself\u001b[39m\u001b[38;5;241m.\u001b[39m_iterator\n\u001b[0;32m    439\u001b[0m \u001b[38;5;28;01melse\u001b[39;00m:\n\u001b[1;32m--> 440\u001b[0m     \u001b[38;5;28;01mreturn\u001b[39;00m \u001b[38;5;28;43mself\u001b[39;49m\u001b[38;5;241;43m.\u001b[39;49m\u001b[43m_get_iterator\u001b[49m\u001b[43m(\u001b[49m\u001b[43m)\u001b[49m\n",
      "File \u001b[1;32mC:\\ProgramData\\miniconda3\\envs\\gpu\\Lib\\site-packages\\torch\\utils\\data\\dataloader.py:388\u001b[0m, in \u001b[0;36mDataLoader._get_iterator\u001b[1;34m(self)\u001b[0m\n\u001b[0;32m    386\u001b[0m \u001b[38;5;28;01melse\u001b[39;00m:\n\u001b[0;32m    387\u001b[0m     \u001b[38;5;28mself\u001b[39m\u001b[38;5;241m.\u001b[39mcheck_worker_number_rationality()\n\u001b[1;32m--> 388\u001b[0m     \u001b[38;5;28;01mreturn\u001b[39;00m \u001b[43m_MultiProcessingDataLoaderIter\u001b[49m\u001b[43m(\u001b[49m\u001b[38;5;28;43mself\u001b[39;49m\u001b[43m)\u001b[49m\n",
      "File \u001b[1;32mC:\\ProgramData\\miniconda3\\envs\\gpu\\Lib\\site-packages\\torch\\utils\\data\\dataloader.py:1038\u001b[0m, in \u001b[0;36m_MultiProcessingDataLoaderIter.__init__\u001b[1;34m(self, loader)\u001b[0m\n\u001b[0;32m   1031\u001b[0m w\u001b[38;5;241m.\u001b[39mdaemon \u001b[38;5;241m=\u001b[39m \u001b[38;5;28;01mTrue\u001b[39;00m\n\u001b[0;32m   1032\u001b[0m \u001b[38;5;66;03m# NB: Process.start() actually take some time as it needs to\u001b[39;00m\n\u001b[0;32m   1033\u001b[0m \u001b[38;5;66;03m#     start a process and pass the arguments over via a pipe.\u001b[39;00m\n\u001b[0;32m   1034\u001b[0m \u001b[38;5;66;03m#     Therefore, we only add a worker to self._workers list after\u001b[39;00m\n\u001b[0;32m   1035\u001b[0m \u001b[38;5;66;03m#     it started, so that we do not call .join() if program dies\u001b[39;00m\n\u001b[0;32m   1036\u001b[0m \u001b[38;5;66;03m#     before it starts, and __del__ tries to join but will get:\u001b[39;00m\n\u001b[0;32m   1037\u001b[0m \u001b[38;5;66;03m#     AssertionError: can only join a started process.\u001b[39;00m\n\u001b[1;32m-> 1038\u001b[0m \u001b[43mw\u001b[49m\u001b[38;5;241;43m.\u001b[39;49m\u001b[43mstart\u001b[49m\u001b[43m(\u001b[49m\u001b[43m)\u001b[49m\n\u001b[0;32m   1039\u001b[0m \u001b[38;5;28mself\u001b[39m\u001b[38;5;241m.\u001b[39m_index_queues\u001b[38;5;241m.\u001b[39mappend(index_queue)\n\u001b[0;32m   1040\u001b[0m \u001b[38;5;28mself\u001b[39m\u001b[38;5;241m.\u001b[39m_workers\u001b[38;5;241m.\u001b[39mappend(w)\n",
      "File \u001b[1;32mC:\\ProgramData\\miniconda3\\envs\\gpu\\Lib\\multiprocessing\\process.py:121\u001b[0m, in \u001b[0;36mBaseProcess.start\u001b[1;34m(self)\u001b[0m\n\u001b[0;32m    118\u001b[0m \u001b[38;5;28;01massert\u001b[39;00m \u001b[38;5;129;01mnot\u001b[39;00m _current_process\u001b[38;5;241m.\u001b[39m_config\u001b[38;5;241m.\u001b[39mget(\u001b[38;5;124m'\u001b[39m\u001b[38;5;124mdaemon\u001b[39m\u001b[38;5;124m'\u001b[39m), \\\n\u001b[0;32m    119\u001b[0m        \u001b[38;5;124m'\u001b[39m\u001b[38;5;124mdaemonic processes are not allowed to have children\u001b[39m\u001b[38;5;124m'\u001b[39m\n\u001b[0;32m    120\u001b[0m _cleanup()\n\u001b[1;32m--> 121\u001b[0m \u001b[38;5;28mself\u001b[39m\u001b[38;5;241m.\u001b[39m_popen \u001b[38;5;241m=\u001b[39m \u001b[38;5;28;43mself\u001b[39;49m\u001b[38;5;241;43m.\u001b[39;49m\u001b[43m_Popen\u001b[49m\u001b[43m(\u001b[49m\u001b[38;5;28;43mself\u001b[39;49m\u001b[43m)\u001b[49m\n\u001b[0;32m    122\u001b[0m \u001b[38;5;28mself\u001b[39m\u001b[38;5;241m.\u001b[39m_sentinel \u001b[38;5;241m=\u001b[39m \u001b[38;5;28mself\u001b[39m\u001b[38;5;241m.\u001b[39m_popen\u001b[38;5;241m.\u001b[39msentinel\n\u001b[0;32m    123\u001b[0m \u001b[38;5;66;03m# Avoid a refcycle if the target function holds an indirect\u001b[39;00m\n\u001b[0;32m    124\u001b[0m \u001b[38;5;66;03m# reference to the process object (see bpo-30775)\u001b[39;00m\n",
      "File \u001b[1;32mC:\\ProgramData\\miniconda3\\envs\\gpu\\Lib\\multiprocessing\\context.py:224\u001b[0m, in \u001b[0;36mProcess._Popen\u001b[1;34m(process_obj)\u001b[0m\n\u001b[0;32m    222\u001b[0m \u001b[38;5;129m@staticmethod\u001b[39m\n\u001b[0;32m    223\u001b[0m \u001b[38;5;28;01mdef\u001b[39;00m \u001b[38;5;21m_Popen\u001b[39m(process_obj):\n\u001b[1;32m--> 224\u001b[0m     \u001b[38;5;28;01mreturn\u001b[39;00m \u001b[43m_default_context\u001b[49m\u001b[38;5;241;43m.\u001b[39;49m\u001b[43mget_context\u001b[49m\u001b[43m(\u001b[49m\u001b[43m)\u001b[49m\u001b[38;5;241;43m.\u001b[39;49m\u001b[43mProcess\u001b[49m\u001b[38;5;241;43m.\u001b[39;49m\u001b[43m_Popen\u001b[49m\u001b[43m(\u001b[49m\u001b[43mprocess_obj\u001b[49m\u001b[43m)\u001b[49m\n",
      "File \u001b[1;32mC:\\ProgramData\\miniconda3\\envs\\gpu\\Lib\\multiprocessing\\context.py:336\u001b[0m, in \u001b[0;36mSpawnProcess._Popen\u001b[1;34m(process_obj)\u001b[0m\n\u001b[0;32m    333\u001b[0m \u001b[38;5;129m@staticmethod\u001b[39m\n\u001b[0;32m    334\u001b[0m \u001b[38;5;28;01mdef\u001b[39;00m \u001b[38;5;21m_Popen\u001b[39m(process_obj):\n\u001b[0;32m    335\u001b[0m     \u001b[38;5;28;01mfrom\u001b[39;00m \u001b[38;5;21;01m.\u001b[39;00m\u001b[38;5;21;01mpopen_spawn_win32\u001b[39;00m \u001b[38;5;28;01mimport\u001b[39;00m Popen\n\u001b[1;32m--> 336\u001b[0m     \u001b[38;5;28;01mreturn\u001b[39;00m \u001b[43mPopen\u001b[49m\u001b[43m(\u001b[49m\u001b[43mprocess_obj\u001b[49m\u001b[43m)\u001b[49m\n",
      "File \u001b[1;32mC:\\ProgramData\\miniconda3\\envs\\gpu\\Lib\\multiprocessing\\popen_spawn_win32.py:71\u001b[0m, in \u001b[0;36mPopen.__init__\u001b[1;34m(self, process_obj)\u001b[0m\n\u001b[0;32m     67\u001b[0m     env \u001b[38;5;241m=\u001b[39m \u001b[38;5;28;01mNone\u001b[39;00m\n\u001b[0;32m     69\u001b[0m cmd \u001b[38;5;241m=\u001b[39m \u001b[38;5;124m'\u001b[39m\u001b[38;5;124m \u001b[39m\u001b[38;5;124m'\u001b[39m\u001b[38;5;241m.\u001b[39mjoin(\u001b[38;5;124m'\u001b[39m\u001b[38;5;124m\"\u001b[39m\u001b[38;5;132;01m%s\u001b[39;00m\u001b[38;5;124m\"\u001b[39m\u001b[38;5;124m'\u001b[39m \u001b[38;5;241m%\u001b[39m x \u001b[38;5;28;01mfor\u001b[39;00m x \u001b[38;5;129;01min\u001b[39;00m cmd)\n\u001b[1;32m---> 71\u001b[0m \u001b[43m\u001b[49m\u001b[38;5;28;43;01mwith\u001b[39;49;00m\u001b[43m \u001b[49m\u001b[38;5;28;43mopen\u001b[39;49m\u001b[43m(\u001b[49m\u001b[43mwfd\u001b[49m\u001b[43m,\u001b[49m\u001b[43m \u001b[49m\u001b[38;5;124;43m'\u001b[39;49m\u001b[38;5;124;43mwb\u001b[39;49m\u001b[38;5;124;43m'\u001b[39;49m\u001b[43m,\u001b[49m\u001b[43m \u001b[49m\u001b[43mclosefd\u001b[49m\u001b[38;5;241;43m=\u001b[39;49m\u001b[38;5;28;43;01mTrue\u001b[39;49;00m\u001b[43m)\u001b[49m\u001b[43m \u001b[49m\u001b[38;5;28;43;01mas\u001b[39;49;00m\u001b[43m \u001b[49m\u001b[43mto_child\u001b[49m\u001b[43m:\u001b[49m\n\u001b[0;32m     72\u001b[0m \u001b[43m    \u001b[49m\u001b[38;5;66;43;03m# start process\u001b[39;49;00m\n\u001b[0;32m     73\u001b[0m \u001b[43m    \u001b[49m\u001b[38;5;28;43;01mtry\u001b[39;49;00m\u001b[43m:\u001b[49m\n\u001b[0;32m     74\u001b[0m \u001b[43m        \u001b[49m\u001b[43mhp\u001b[49m\u001b[43m,\u001b[49m\u001b[43m \u001b[49m\u001b[43mht\u001b[49m\u001b[43m,\u001b[49m\u001b[43m \u001b[49m\u001b[43mpid\u001b[49m\u001b[43m,\u001b[49m\u001b[43m \u001b[49m\u001b[43mtid\u001b[49m\u001b[43m \u001b[49m\u001b[38;5;241;43m=\u001b[39;49m\u001b[43m \u001b[49m\u001b[43m_winapi\u001b[49m\u001b[38;5;241;43m.\u001b[39;49m\u001b[43mCreateProcess\u001b[49m\u001b[43m(\u001b[49m\n\u001b[0;32m     75\u001b[0m \u001b[43m            \u001b[49m\u001b[43mpython_exe\u001b[49m\u001b[43m,\u001b[49m\u001b[43m \u001b[49m\u001b[43mcmd\u001b[49m\u001b[43m,\u001b[49m\n\u001b[0;32m     76\u001b[0m \u001b[43m            \u001b[49m\u001b[38;5;28;43;01mNone\u001b[39;49;00m\u001b[43m,\u001b[49m\u001b[43m \u001b[49m\u001b[38;5;28;43;01mNone\u001b[39;49;00m\u001b[43m,\u001b[49m\u001b[43m \u001b[49m\u001b[38;5;28;43;01mFalse\u001b[39;49;00m\u001b[43m,\u001b[49m\u001b[43m \u001b[49m\u001b[38;5;241;43m0\u001b[39;49m\u001b[43m,\u001b[49m\u001b[43m \u001b[49m\u001b[43menv\u001b[49m\u001b[43m,\u001b[49m\u001b[43m \u001b[49m\u001b[38;5;28;43;01mNone\u001b[39;49;00m\u001b[43m,\u001b[49m\u001b[43m \u001b[49m\u001b[38;5;28;43;01mNone\u001b[39;49;00m\u001b[43m)\u001b[49m\n",
      "\u001b[1;31mKeyboardInterrupt\u001b[0m: "
     ]
    }
   ],
   "source": [
    "%%time\n",
    "from turning_modular.utils import save_model\n",
    "from turning_modular import writer\n",
    "\n",
    "torch.manual_seed(42)\n",
    "\n",
    "# 1. Keep track of experiment numbers\n",
    "experiment_number = 0\n",
    "\n",
    "# 2. Loop through each DataLoader\n",
    "for dataloader_name, dataloader_val in train_dataloaders.items():\n",
    "\n",
    "    # 3. Loop through each number of epochs\n",
    "    for epochs in n_epochs: \n",
    "\n",
    "        # 4. Loop through each model\n",
    "        for model_name in models:\n",
    "\n",
    "            experiment_number += 1\n",
    "            print(f\"Experiment number: {experiment_number}\")\n",
    "            print(f\"Model: {model_name}\")\n",
    "            print(f\"DataLoader: {dataloader_name}\")\n",
    "            print(f\"Number of epochs: {epochs}\")\n",
    "\n",
    "            # 5. Select the model\n",
    "            if model_name == \"effnetb0\":\n",
    "                model_used = model # creates a new model each time (important because we want each experiment to start from scratch)\n",
    "            else:\n",
    "                model_used = model_b2\n",
    "\n",
    "            # 6. Create a new loss and optimizer for every model\n",
    "            loss_fn = nn.CrossEntropyLoss()\n",
    "            optim   = torch.optim.Adam(params=model.parameters(), lr=0.001)\n",
    "\n",
    "            # 7. Train\n",
    "            train(model=model_used,\n",
    "                  train_dataloader=dataloader_val,\n",
    "                  test_dataloader=test_dataloader, \n",
    "                  optimizer=optim,\n",
    "                  loss_fn=loss_fn,\n",
    "                  epochs=epochs,\n",
    "                  device=device,\n",
    "                  writer=writer.create_writer(experiment_name=dataloader_name,\n",
    "                                       model_name=model_name,\n",
    "                                       extra=f\"{epochs}_epochs\"))\n",
    "\n",
    "            # 8. Save model to get the best model\n",
    "            save_filepath = f\"07_{model_name}_{dataloader_name}_{epochs}_epochs.pth\"\n",
    "            save_model(model=model_used,\n",
    "                       target_dir=\"models\",\n",
    "                       model_name=save_filepath)\n",
    "            print(\"-\"*50 + \"\\n\")"
   ]
  },
  {
   "cell_type": "code",
   "execution_count": null,
   "id": "989759a9-0bba-4cb6-85d6-b1fd4f0be4ce",
   "metadata": {},
   "outputs": [],
   "source": [
    "%load_ext tensorboard\n",
    "%tensorboard --logdir runs"
   ]
  },
  {
   "cell_type": "markdown",
   "id": "7e9209a0-a497-455f-824c-d284b92f7a9b",
   "metadata": {},
   "source": [
    "Looked like experiment 5 produced the best results, therefore, we will use it"
   ]
  },
  {
   "cell_type": "code",
   "execution_count": 37,
   "id": "42dc2f72-d4a4-4d8f-a7ef-c1785dffba25",
   "metadata": {},
   "outputs": [
    {
     "data": {
      "text/plain": [
       "<All keys matched successfully>"
      ]
     },
     "execution_count": 37,
     "metadata": {},
     "output_type": "execute_result"
    }
   ],
   "source": [
    "best_model_path = \"models/07_effnetb0_data_20_percent_5_epochs.pth\"\n",
    "\n",
    "# 1. Create an instance of EffNetB2 with pretrained weights\n",
    "best_model_weights = torchvision.models.EfficientNet_B0_Weights.DEFAULT # \"DEFAULT\" means best available weights\n",
    "best_model = torchvision.models.efficientnet_b0().to(device)\n",
    "\n",
    "# 2. Change classfier layer\n",
    "best_model.classifier = nn.Sequential(nn.Dropout(p=0.2),\n",
    "                                 nn.Linear(in_features=1280, out_features=3)\n",
    "                                ).to(device)\n",
    "\n",
    "best_model.load_state_dict(torch.load(best_model_path, weights_only=False))"
   ]
  },
  {
   "cell_type": "markdown",
   "id": "e00e0a65-a504-4b65-b448-050f7a65b657",
   "metadata": {},
   "source": [
    "# 8. Make predictions\n",
    "We will make prediction using an image I captured while eating pizza. The steps to be followed are,\n",
    "\n",
    "1. Perform transformation\n",
    "2. Usual testing"
   ]
  },
  {
   "cell_type": "code",
   "execution_count": 38,
   "id": "65a69d05-9d5a-4057-99c7-260af7cdea4e",
   "metadata": {},
   "outputs": [
    {
     "data": {
      "image/png": "[encoded data removed]",
      "text/plain": [
       "<Figure size 640x480 with 1 Axes>"
      ]
     },
     "metadata": {},
     "output_type": "display_data"
    }
   ],
   "source": [
    "from PIL import Image\n",
    "\n",
    "# open image\n",
    "img = Image.open(data_path / \"pizza_test_dominos.jpg\")\n",
    "\n",
    "# transformation\n",
    "img_transf = transforms.Compose([transforms.Resize(size=(224,224)),\n",
    "                                 transforms.ToTensor(),\n",
    "                                transforms.Normalize(mean=[0.485, 0.456, 0.406],\n",
    "                                                     std=[0.229, 0.224, 0.225])])\n",
    "\n",
    "# predict the image\n",
    "\n",
    "# make sure model is in target device\n",
    "best_model.to(device)\n",
    "\n",
    "# put in evaluation and inference mode\n",
    "best_model.eval()\n",
    "with torch.inference_mode():\n",
    "\n",
    "    # transformed image\n",
    "    transformed_image = img_transf(img).unsqueeze(dim=0) # since expects to be in batches\n",
    "\n",
    "    # prediction\n",
    "    img_pred = best_model(transformed_image.to(device))\n",
    "\n",
    "    # logits -> probability\n",
    "    img_prob = torch.softmax(img_pred, dim=1)\n",
    "\n",
    "    # probability -> prediction label\n",
    "    img_label = torch.argmax(img_prob, dim=1)\n",
    "\n",
    "    plt.figure()\n",
    "    plt.imshow(img)\n",
    "    plt.title(f\"Food Name: {class_names[img_label]} | Prob: {img_prob.max():.3f}\")\n",
    "    plt.axis(False);"
   ]
  },
  {
   "cell_type": "markdown",
   "id": "a9a24b52-4c0e-4456-a763-0daaf6dc4e34",
   "metadata": {},
   "source": [
    "We can see that the confidence in prediction is almost doubled by performing experimentation (0.552 -> 0.929). "
   ]
  }
 ],
 "metadata": {
  "kernelspec": {
   "display_name": "gpu_torch",
   "language": "python",
   "name": "gpu"
  },
  "language_info": {
   "codemirror_mode": {
    "name": "ipython",
    "version": 3
   },
   "file_extension": ".py",
   "mimetype": "text/x-python",
   "name": "python",
   "nbconvert_exporter": "python",
   "pygments_lexer": "ipython3",
   "version": "3.11.1"
  }
 },
 "nbformat": 4,
 "nbformat_minor": 5
}
